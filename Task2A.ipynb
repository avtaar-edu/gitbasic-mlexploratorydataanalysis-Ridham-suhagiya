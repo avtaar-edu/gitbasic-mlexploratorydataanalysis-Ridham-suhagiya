{
 "cells": [
  {
   "cell_type": "code",
   "execution_count": 23,
   "source": [
    "import pandas as pd \r\n",
    "import numpy as np\r\n",
    "import matplotlib.pyplot as plt"
   ],
   "outputs": [],
   "metadata": {}
  },
  {
   "cell_type": "code",
   "execution_count": 24,
   "source": [
    "df_final = pd.DataFrame()\r\n",
    "for df in range(1,5):\r\n",
    "    df = pd.read_csv(f'assng2_dataset - Sheet{df}.csv')\r\n",
    "    df_final = pd.concat([df_final,df],ignore_index= True)\r\n",
    "df = pd.read_csv('US_Accidents_Dec20_Updated_sheet1.csv')\r\n",
    "df_final = pd.concat([df_final,df])\r\n",
    "df_final.head()                                         # Mergin of all the dataframes"
   ],
   "outputs": [
    {
     "output_type": "execute_result",
     "data": {
      "text/html": [
       "<div>\n",
       "<style scoped>\n",
       "    .dataframe tbody tr th:only-of-type {\n",
       "        vertical-align: middle;\n",
       "    }\n",
       "\n",
       "    .dataframe tbody tr th {\n",
       "        vertical-align: top;\n",
       "    }\n",
       "\n",
       "    .dataframe thead th {\n",
       "        text-align: right;\n",
       "    }\n",
       "</style>\n",
       "<table border=\"1\" class=\"dataframe\">\n",
       "  <thead>\n",
       "    <tr style=\"text-align: right;\">\n",
       "      <th></th>\n",
       "      <th>Severity</th>\n",
       "      <th>Start_Time</th>\n",
       "      <th>End_Time</th>\n",
       "      <th>Start_Lat</th>\n",
       "      <th>Start_Lng</th>\n",
       "      <th>End_Lat</th>\n",
       "      <th>End_Lng</th>\n",
       "      <th>Distance(mi)</th>\n",
       "      <th>Description</th>\n",
       "      <th>Number</th>\n",
       "      <th>...</th>\n",
       "      <th>Roundabout</th>\n",
       "      <th>Station</th>\n",
       "      <th>Stop</th>\n",
       "      <th>Traffic_Calming</th>\n",
       "      <th>Traffic_Signal</th>\n",
       "      <th>Turning_Loop</th>\n",
       "      <th>Sunrise_Sunset</th>\n",
       "      <th>Civil_Twilight</th>\n",
       "      <th>Nautical_Twilight</th>\n",
       "      <th>Astronomical_Twilight</th>\n",
       "    </tr>\n",
       "  </thead>\n",
       "  <tbody>\n",
       "    <tr>\n",
       "      <th>0</th>\n",
       "      <td>3</td>\n",
       "      <td>21-06-18 7:50</td>\n",
       "      <td>21-06-18 13:50</td>\n",
       "      <td>32.92393</td>\n",
       "      <td>-96.77563</td>\n",
       "      <td>32.92379</td>\n",
       "      <td>-96.76877</td>\n",
       "      <td>0.398</td>\n",
       "      <td>Ramp to US-75 - Accident. Two lanes blocked. H...</td>\n",
       "      <td>NaN</td>\n",
       "      <td>...</td>\n",
       "      <td>FALSE</td>\n",
       "      <td>FALSE</td>\n",
       "      <td>FALSE</td>\n",
       "      <td>FALSE</td>\n",
       "      <td>FALSE</td>\n",
       "      <td>FALSE</td>\n",
       "      <td>Day</td>\n",
       "      <td>Day</td>\n",
       "      <td>Day</td>\n",
       "      <td>Day</td>\n",
       "    </tr>\n",
       "    <tr>\n",
       "      <th>1</th>\n",
       "      <td>2</td>\n",
       "      <td>22-12-17 17:23</td>\n",
       "      <td>22-12-17 17:53</td>\n",
       "      <td>33.236919</td>\n",
       "      <td>-87.560966</td>\n",
       "      <td>33.236919</td>\n",
       "      <td>-87.560966</td>\n",
       "      <td>0</td>\n",
       "      <td>Accident on US-82 McFarland Blvd Westbound at ...</td>\n",
       "      <td>3200</td>\n",
       "      <td>...</td>\n",
       "      <td>FALSE</td>\n",
       "      <td>FALSE</td>\n",
       "      <td>FALSE</td>\n",
       "      <td>FALSE</td>\n",
       "      <td>TRUE</td>\n",
       "      <td>FALSE</td>\n",
       "      <td>Night</td>\n",
       "      <td>Night</td>\n",
       "      <td>Day</td>\n",
       "      <td>Day</td>\n",
       "    </tr>\n",
       "    <tr>\n",
       "      <th>2</th>\n",
       "      <td>2</td>\n",
       "      <td>11-12-19 15:27</td>\n",
       "      <td>11-12-19 16:38</td>\n",
       "      <td>33.02304</td>\n",
       "      <td>-117.07853</td>\n",
       "      <td>33.02304</td>\n",
       "      <td>-117.07853</td>\n",
       "      <td>0</td>\n",
       "      <td>At Rancho Bernardo Rd - Accident. Obstruction ...</td>\n",
       "      <td>NaN</td>\n",
       "      <td>...</td>\n",
       "      <td>FALSE</td>\n",
       "      <td>FALSE</td>\n",
       "      <td>FALSE</td>\n",
       "      <td>FALSE</td>\n",
       "      <td>FALSE</td>\n",
       "      <td>FALSE</td>\n",
       "      <td>Day</td>\n",
       "      <td>Day</td>\n",
       "      <td>Day</td>\n",
       "      <td>Day</td>\n",
       "    </tr>\n",
       "    <tr>\n",
       "      <th>3</th>\n",
       "      <td>2</td>\n",
       "      <td>09-10-19 15:06</td>\n",
       "      <td>09-10-19 15:39</td>\n",
       "      <td>38.366671</td>\n",
       "      <td>-122.712364</td>\n",
       "      <td>38.366671</td>\n",
       "      <td>-122.712364</td>\n",
       "      <td>0</td>\n",
       "      <td>At Commerce Blvd/Wilfred Ave - Accident.</td>\n",
       "      <td>NaN</td>\n",
       "      <td>...</td>\n",
       "      <td>FALSE</td>\n",
       "      <td>FALSE</td>\n",
       "      <td>FALSE</td>\n",
       "      <td>FALSE</td>\n",
       "      <td>FALSE</td>\n",
       "      <td>FALSE</td>\n",
       "      <td>Day</td>\n",
       "      <td>Day</td>\n",
       "      <td>Day</td>\n",
       "      <td>Day</td>\n",
       "    </tr>\n",
       "    <tr>\n",
       "      <th>4</th>\n",
       "      <td>2</td>\n",
       "      <td>03-12-19 23:44</td>\n",
       "      <td>04-12-19 1:56</td>\n",
       "      <td>38.597976</td>\n",
       "      <td>-121.383093</td>\n",
       "      <td>38.597976</td>\n",
       "      <td>-121.383093</td>\n",
       "      <td>0</td>\n",
       "      <td>At Arden Way - Accident.</td>\n",
       "      <td>NaN</td>\n",
       "      <td>...</td>\n",
       "      <td>FALSE</td>\n",
       "      <td>FALSE</td>\n",
       "      <td>FALSE</td>\n",
       "      <td>FALSE</td>\n",
       "      <td>FALSE</td>\n",
       "      <td>FALSE</td>\n",
       "      <td>Night</td>\n",
       "      <td>Night</td>\n",
       "      <td>Night</td>\n",
       "      <td>Night</td>\n",
       "    </tr>\n",
       "  </tbody>\n",
       "</table>\n",
       "<p>5 rows × 46 columns</p>\n",
       "</div>"
      ],
      "text/plain": [
       "  Severity      Start_Time        End_Time  Start_Lat    Start_Lng    End_Lat  \\\n",
       "0        3   21-06-18 7:50  21-06-18 13:50   32.92393    -96.77563   32.92379   \n",
       "1        2  22-12-17 17:23  22-12-17 17:53  33.236919   -87.560966  33.236919   \n",
       "2        2  11-12-19 15:27  11-12-19 16:38   33.02304   -117.07853   33.02304   \n",
       "3        2  09-10-19 15:06  09-10-19 15:39  38.366671  -122.712364  38.366671   \n",
       "4        2  03-12-19 23:44   04-12-19 1:56  38.597976  -121.383093  38.597976   \n",
       "\n",
       "       End_Lng Distance(mi)  \\\n",
       "0    -96.76877        0.398   \n",
       "1   -87.560966            0   \n",
       "2   -117.07853            0   \n",
       "3  -122.712364            0   \n",
       "4  -121.383093            0   \n",
       "\n",
       "                                         Description Number  ... Roundabout  \\\n",
       "0  Ramp to US-75 - Accident. Two lanes blocked. H...    NaN  ...      FALSE   \n",
       "1  Accident on US-82 McFarland Blvd Westbound at ...   3200  ...      FALSE   \n",
       "2  At Rancho Bernardo Rd - Accident. Obstruction ...    NaN  ...      FALSE   \n",
       "3           At Commerce Blvd/Wilfred Ave - Accident.    NaN  ...      FALSE   \n",
       "4                           At Arden Way - Accident.    NaN  ...      FALSE   \n",
       "\n",
       "  Station   Stop Traffic_Calming Traffic_Signal Turning_Loop Sunrise_Sunset  \\\n",
       "0   FALSE  FALSE           FALSE          FALSE        FALSE            Day   \n",
       "1   FALSE  FALSE           FALSE           TRUE        FALSE          Night   \n",
       "2   FALSE  FALSE           FALSE          FALSE        FALSE            Day   \n",
       "3   FALSE  FALSE           FALSE          FALSE        FALSE            Day   \n",
       "4   FALSE  FALSE           FALSE          FALSE        FALSE          Night   \n",
       "\n",
       "  Civil_Twilight Nautical_Twilight Astronomical_Twilight  \n",
       "0            Day               Day                   Day  \n",
       "1          Night               Day                   Day  \n",
       "2            Day               Day                   Day  \n",
       "3            Day               Day                   Day  \n",
       "4          Night             Night                 Night  \n",
       "\n",
       "[5 rows x 46 columns]"
      ]
     },
     "metadata": {},
     "execution_count": 24
    }
   ],
   "metadata": {}
  },
  {
   "cell_type": "code",
   "execution_count": 25,
   "source": [
    "df_final.shape      #Shape of the final dataframe"
   ],
   "outputs": [
    {
     "output_type": "execute_result",
     "data": {
      "text/plain": [
       "(23637, 46)"
      ]
     },
     "metadata": {},
     "execution_count": 25
    }
   ],
   "metadata": {}
  },
  {
   "cell_type": "code",
   "execution_count": 26,
   "source": [
    "df_final.isnull().sum() # Having a look over the null values"
   ],
   "outputs": [
    {
     "output_type": "execute_result",
     "data": {
      "text/plain": [
       "Severity                     0\n",
       "Start_Time                   0\n",
       "End_Time                     0\n",
       "Start_Lat                    0\n",
       "Start_Lng                    0\n",
       "End_Lat                   2313\n",
       "End_Lng                   2313\n",
       "Distance(mi)                 0\n",
       "Description                  0\n",
       "Number                   15428\n",
       "Street                       0\n",
       "Side                         0\n",
       "City                         1\n",
       "County                       0\n",
       "State                        0\n",
       "Zipcode                      9\n",
       "Country                      0\n",
       "Timezone                    24\n",
       "Airport_Code                56\n",
       "Weather_Timestamp          344\n",
       "Temperature(F)             505\n",
       "Wind_Chill(F)             9610\n",
       "Humidity(%)                537\n",
       "Pressure(in)               425\n",
       "Visibility(mi)             540\n",
       "Wind_Direction             476\n",
       "Wind_Speed(mph)           2386\n",
       "Precipitation(in)        10477\n",
       "Weather_Condition          556\n",
       "Amenity                      0\n",
       "Bump                         0\n",
       "Crossing                     0\n",
       "Give_Way                     0\n",
       "Junction                     0\n",
       "No_Exit                      0\n",
       "Railway                      0\n",
       "Roundabout                   0\n",
       "Station                      0\n",
       "Stop                         0\n",
       "Traffic_Calming              0\n",
       "Traffic_Signal               0\n",
       "Turning_Loop                 0\n",
       "Sunrise_Sunset               1\n",
       "Civil_Twilight               1\n",
       "Nautical_Twilight            1\n",
       "Astronomical_Twilight        1\n",
       "dtype: int64"
      ]
     },
     "metadata": {},
     "execution_count": 26
    }
   ],
   "metadata": {}
  },
  {
   "cell_type": "code",
   "execution_count": 27,
   "source": [
    "df_final.columns    # because of too much columns i had a look on it to shorten them down to few "
   ],
   "outputs": [
    {
     "output_type": "execute_result",
     "data": {
      "text/plain": [
       "Index(['Severity', 'Start_Time', 'End_Time', 'Start_Lat', 'Start_Lng',\n",
       "       'End_Lat', 'End_Lng', 'Distance(mi)', 'Description', 'Number', 'Street',\n",
       "       'Side', 'City', 'County', 'State', 'Zipcode', 'Country', 'Timezone',\n",
       "       'Airport_Code', 'Weather_Timestamp', 'Temperature(F)', 'Wind_Chill(F)',\n",
       "       'Humidity(%)', 'Pressure(in)', 'Visibility(mi)', 'Wind_Direction',\n",
       "       'Wind_Speed(mph)', 'Precipitation(in)', 'Weather_Condition', 'Amenity',\n",
       "       'Bump', 'Crossing', 'Give_Way', 'Junction', 'No_Exit', 'Railway',\n",
       "       'Roundabout', 'Station', 'Stop', 'Traffic_Calming', 'Traffic_Signal',\n",
       "       'Turning_Loop', 'Sunrise_Sunset', 'Civil_Twilight', 'Nautical_Twilight',\n",
       "       'Astronomical_Twilight'],\n",
       "      dtype='object')"
      ]
     },
     "metadata": {},
     "execution_count": 27
    }
   ],
   "metadata": {}
  },
  {
   "cell_type": "code",
   "execution_count": 28,
   "source": [
    "dff= df_final[['Severity','Description','City','County','State','Country','Visibility(mi)','Start_Time', 'End_Time']]   # These are the selected few with necessary information \r\n",
    "dff.head()"
   ],
   "outputs": [
    {
     "output_type": "execute_result",
     "data": {
      "text/html": [
       "<div>\n",
       "<style scoped>\n",
       "    .dataframe tbody tr th:only-of-type {\n",
       "        vertical-align: middle;\n",
       "    }\n",
       "\n",
       "    .dataframe tbody tr th {\n",
       "        vertical-align: top;\n",
       "    }\n",
       "\n",
       "    .dataframe thead th {\n",
       "        text-align: right;\n",
       "    }\n",
       "</style>\n",
       "<table border=\"1\" class=\"dataframe\">\n",
       "  <thead>\n",
       "    <tr style=\"text-align: right;\">\n",
       "      <th></th>\n",
       "      <th>Severity</th>\n",
       "      <th>Description</th>\n",
       "      <th>City</th>\n",
       "      <th>County</th>\n",
       "      <th>State</th>\n",
       "      <th>Country</th>\n",
       "      <th>Visibility(mi)</th>\n",
       "      <th>Start_Time</th>\n",
       "      <th>End_Time</th>\n",
       "    </tr>\n",
       "  </thead>\n",
       "  <tbody>\n",
       "    <tr>\n",
       "      <th>0</th>\n",
       "      <td>3</td>\n",
       "      <td>Ramp to US-75 - Accident. Two lanes blocked. H...</td>\n",
       "      <td>Dallas</td>\n",
       "      <td>Dallas</td>\n",
       "      <td>TX</td>\n",
       "      <td>US</td>\n",
       "      <td>10</td>\n",
       "      <td>21-06-18 7:50</td>\n",
       "      <td>21-06-18 13:50</td>\n",
       "    </tr>\n",
       "    <tr>\n",
       "      <th>1</th>\n",
       "      <td>2</td>\n",
       "      <td>Accident on US-82 McFarland Blvd Westbound at ...</td>\n",
       "      <td>Northport</td>\n",
       "      <td>Tuscaloosa</td>\n",
       "      <td>AL</td>\n",
       "      <td>US</td>\n",
       "      <td>4</td>\n",
       "      <td>22-12-17 17:23</td>\n",
       "      <td>22-12-17 17:53</td>\n",
       "    </tr>\n",
       "    <tr>\n",
       "      <th>2</th>\n",
       "      <td>2</td>\n",
       "      <td>At Rancho Bernardo Rd - Accident. Obstruction ...</td>\n",
       "      <td>San Diego</td>\n",
       "      <td>San Diego</td>\n",
       "      <td>CA</td>\n",
       "      <td>US</td>\n",
       "      <td>10</td>\n",
       "      <td>11-12-19 15:27</td>\n",
       "      <td>11-12-19 16:38</td>\n",
       "    </tr>\n",
       "    <tr>\n",
       "      <th>3</th>\n",
       "      <td>2</td>\n",
       "      <td>At Commerce Blvd/Wilfred Ave - Accident.</td>\n",
       "      <td>Santa Rosa</td>\n",
       "      <td>Sonoma</td>\n",
       "      <td>CA</td>\n",
       "      <td>US</td>\n",
       "      <td>10</td>\n",
       "      <td>09-10-19 15:06</td>\n",
       "      <td>09-10-19 15:39</td>\n",
       "    </tr>\n",
       "    <tr>\n",
       "      <th>4</th>\n",
       "      <td>2</td>\n",
       "      <td>At Arden Way - Accident.</td>\n",
       "      <td>Sacramento</td>\n",
       "      <td>Sacramento</td>\n",
       "      <td>CA</td>\n",
       "      <td>US</td>\n",
       "      <td>0.25</td>\n",
       "      <td>03-12-19 23:44</td>\n",
       "      <td>04-12-19 1:56</td>\n",
       "    </tr>\n",
       "  </tbody>\n",
       "</table>\n",
       "</div>"
      ],
      "text/plain": [
       "  Severity                                        Description        City  \\\n",
       "0        3  Ramp to US-75 - Accident. Two lanes blocked. H...      Dallas   \n",
       "1        2  Accident on US-82 McFarland Blvd Westbound at ...   Northport   \n",
       "2        2  At Rancho Bernardo Rd - Accident. Obstruction ...   San Diego   \n",
       "3        2           At Commerce Blvd/Wilfred Ave - Accident.  Santa Rosa   \n",
       "4        2                           At Arden Way - Accident.  Sacramento   \n",
       "\n",
       "       County State Country Visibility(mi)      Start_Time        End_Time  \n",
       "0      Dallas    TX      US             10   21-06-18 7:50  21-06-18 13:50  \n",
       "1  Tuscaloosa    AL      US              4  22-12-17 17:23  22-12-17 17:53  \n",
       "2   San Diego    CA      US             10  11-12-19 15:27  11-12-19 16:38  \n",
       "3      Sonoma    CA      US             10  09-10-19 15:06  09-10-19 15:39  \n",
       "4  Sacramento    CA      US           0.25  03-12-19 23:44   04-12-19 1:56  "
      ]
     },
     "metadata": {},
     "execution_count": 28
    }
   ],
   "metadata": {}
  },
  {
   "cell_type": "code",
   "execution_count": 29,
   "source": [
    "dff.isnull().sum()                  # Checking the null values of the selected columns "
   ],
   "outputs": [
    {
     "output_type": "execute_result",
     "data": {
      "text/plain": [
       "Severity            0\n",
       "Description         0\n",
       "City                1\n",
       "County              0\n",
       "State               0\n",
       "Country             0\n",
       "Visibility(mi)    540\n",
       "Start_Time          0\n",
       "End_Time            0\n",
       "dtype: int64"
      ]
     },
     "metadata": {},
     "execution_count": 29
    }
   ],
   "metadata": {}
  },
  {
   "cell_type": "code",
   "execution_count": 30,
   "source": [
    "dff1 = dff.dropna()     # I Thought of droping all the null values directly because its very small compared to the actually size of the dataset "
   ],
   "outputs": [],
   "metadata": {}
  },
  {
   "cell_type": "code",
   "execution_count": 31,
   "source": [
    "dct = {}\r\n",
    "for key,dataf in dff1.groupby('City'):          #Using group by function to group the dataframe with respect to each unique city and \r\n",
    "                                                #the storing the value of the number of rows \r\n",
    "                                                # because the number of rows represent the number of accident occured\r\n",
    "    dct[key] = len(dataf)\r\n"
   ],
   "outputs": [],
   "metadata": {}
  },
  {
   "cell_type": "code",
   "execution_count": 32,
   "source": [
    "df = pd.DataFrame(dct.values(),dct.keys())\r\n",
    "df['city'] = df.index\r\n",
    "df =df.rename(columns = {0:'Accidents'})\r\n",
    "df = df.sort_values(by  ='Accidents',ascending = False)\r\n",
    "\r\n",
    "df1  = df.head()  #The city with maximum accident can be found using max function simply."
   ],
   "outputs": [],
   "metadata": {}
  },
  {
   "cell_type": "code",
   "execution_count": 33,
   "source": [
    "df1[df1['Accidents'] == max(df1.Accidents)]     #The city with maximum accident can be found using max function simply."
   ],
   "outputs": [
    {
     "output_type": "execute_result",
     "data": {
      "text/html": [
       "<div>\n",
       "<style scoped>\n",
       "    .dataframe tbody tr th:only-of-type {\n",
       "        vertical-align: middle;\n",
       "    }\n",
       "\n",
       "    .dataframe tbody tr th {\n",
       "        vertical-align: top;\n",
       "    }\n",
       "\n",
       "    .dataframe thead th {\n",
       "        text-align: right;\n",
       "    }\n",
       "</style>\n",
       "<table border=\"1\" class=\"dataframe\">\n",
       "  <thead>\n",
       "    <tr style=\"text-align: right;\">\n",
       "      <th></th>\n",
       "      <th>Accidents</th>\n",
       "      <th>city</th>\n",
       "    </tr>\n",
       "  </thead>\n",
       "  <tbody>\n",
       "    <tr>\n",
       "      <th>Houston</th>\n",
       "      <td>565</td>\n",
       "      <td>Houston</td>\n",
       "    </tr>\n",
       "  </tbody>\n",
       "</table>\n",
       "</div>"
      ],
      "text/plain": [
       "         Accidents     city\n",
       "Houston        565  Houston"
      ]
     },
     "metadata": {},
     "execution_count": 33
    }
   ],
   "metadata": {}
  },
  {
   "cell_type": "code",
   "execution_count": 34,
   "source": [
    "plt.plot(df1.city,df1.Accidents)\r\n",
    "plt.show()"
   ],
   "outputs": [
    {
     "output_type": "display_data",
     "data": {
      "image/png": "[encoded data removed]",
      "text/plain": [
       "<Figure size 432x288 with 1 Axes>"
      ]
     },
     "metadata": {
      "needs_background": "light"
     }
    }
   ],
   "metadata": {}
  }
 ],
 "metadata": {
  "orig_nbformat": 4,
  "language_info": {
   "name": "python",
   "version": "3.7.4",
   "mimetype": "text/x-python",
   "codemirror_mode": {
    "name": "ipython",
    "version": 3
   },
   "pygments_lexer": "ipython3",
   "nbconvert_exporter": "python",
   "file_extension": ".py"
  },
  "kernelspec": {
   "name": "python3",
   "display_name": "Python 3.7.4 32-bit"
  },
  "interpreter": {
   "hash": "d253451f575e0ec75da8c3481061c2c793d974f3e9a97c2104602863c13606f7"
  }
 },
 "nbformat": 4,
 "nbformat_minor": 2
}