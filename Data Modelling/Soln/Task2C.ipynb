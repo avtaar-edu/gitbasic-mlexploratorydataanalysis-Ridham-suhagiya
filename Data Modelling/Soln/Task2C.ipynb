{
 "cells": [
  {
   "cell_type": "code",
   "execution_count": 1,
   "source": [
    "import pandas as pd \r\n",
    "import numpy as np\r\n",
    "import matplotlib.pyplot as plt"
   ],
   "outputs": [],
   "metadata": {}
  },
  {
   "cell_type": "code",
   "execution_count": 2,
   "source": [
    "df_final = pd.DataFrame()\r\n",
    "for df in range(1,5):\r\n",
    "    df = pd.read_csv(f'assng2_dataset - Sheet{df}.csv')\r\n",
    "    df_final = pd.concat([df_final,df],ignore_index= True)\r\n",
    "df = pd.read_csv('US_Accidents_Dec20_Updated_sheet1.csv')\r\n",
    "df_final = pd.concat([df_final,df])\r\n",
    "df_final.head()                                         # Mergin of all the dataframes"
   ],
   "outputs": [
    {
     "output_type": "execute_result",
     "data": {
      "text/html": [
       "<div>\n",
       "<style scoped>\n",
       "    .dataframe tbody tr th:only-of-type {\n",
       "        vertical-align: middle;\n",
       "    }\n",
       "\n",
       "    .dataframe tbody tr th {\n",
       "        vertical-align: top;\n",
       "    }\n",
       "\n",
       "    .dataframe thead th {\n",
       "        text-align: right;\n",
       "    }\n",
       "</style>\n",
       "<table border=\"1\" class=\"dataframe\">\n",
       "  <thead>\n",
       "    <tr style=\"text-align: right;\">\n",
       "      <th></th>\n",
       "      <th>Severity</th>\n",
       "      <th>Start_Time</th>\n",
       "      <th>End_Time</th>\n",
       "      <th>Start_Lat</th>\n",
       "      <th>Start_Lng</th>\n",
       "      <th>End_Lat</th>\n",
       "      <th>End_Lng</th>\n",
       "      <th>Distance(mi)</th>\n",
       "      <th>Description</th>\n",
       "      <th>Number</th>\n",
       "      <th>...</th>\n",
       "      <th>Roundabout</th>\n",
       "      <th>Station</th>\n",
       "      <th>Stop</th>\n",
       "      <th>Traffic_Calming</th>\n",
       "      <th>Traffic_Signal</th>\n",
       "      <th>Turning_Loop</th>\n",
       "      <th>Sunrise_Sunset</th>\n",
       "      <th>Civil_Twilight</th>\n",
       "      <th>Nautical_Twilight</th>\n",
       "      <th>Astronomical_Twilight</th>\n",
       "    </tr>\n",
       "  </thead>\n",
       "  <tbody>\n",
       "    <tr>\n",
       "      <th>0</th>\n",
       "      <td>3</td>\n",
       "      <td>21-06-18 7:50</td>\n",
       "      <td>21-06-18 13:50</td>\n",
       "      <td>32.92393</td>\n",
       "      <td>-96.77563</td>\n",
       "      <td>32.92379</td>\n",
       "      <td>-96.76877</td>\n",
       "      <td>0.398</td>\n",
       "      <td>Ramp to US-75 - Accident. Two lanes blocked. H...</td>\n",
       "      <td>NaN</td>\n",
       "      <td>...</td>\n",
       "      <td>FALSE</td>\n",
       "      <td>FALSE</td>\n",
       "      <td>FALSE</td>\n",
       "      <td>FALSE</td>\n",
       "      <td>FALSE</td>\n",
       "      <td>FALSE</td>\n",
       "      <td>Day</td>\n",
       "      <td>Day</td>\n",
       "      <td>Day</td>\n",
       "      <td>Day</td>\n",
       "    </tr>\n",
       "    <tr>\n",
       "      <th>1</th>\n",
       "      <td>2</td>\n",
       "      <td>22-12-17 17:23</td>\n",
       "      <td>22-12-17 17:53</td>\n",
       "      <td>33.236919</td>\n",
       "      <td>-87.560966</td>\n",
       "      <td>33.236919</td>\n",
       "      <td>-87.560966</td>\n",
       "      <td>0</td>\n",
       "      <td>Accident on US-82 McFarland Blvd Westbound at ...</td>\n",
       "      <td>3200</td>\n",
       "      <td>...</td>\n",
       "      <td>FALSE</td>\n",
       "      <td>FALSE</td>\n",
       "      <td>FALSE</td>\n",
       "      <td>FALSE</td>\n",
       "      <td>TRUE</td>\n",
       "      <td>FALSE</td>\n",
       "      <td>Night</td>\n",
       "      <td>Night</td>\n",
       "      <td>Day</td>\n",
       "      <td>Day</td>\n",
       "    </tr>\n",
       "    <tr>\n",
       "      <th>2</th>\n",
       "      <td>2</td>\n",
       "      <td>11-12-19 15:27</td>\n",
       "      <td>11-12-19 16:38</td>\n",
       "      <td>33.02304</td>\n",
       "      <td>-117.07853</td>\n",
       "      <td>33.02304</td>\n",
       "      <td>-117.07853</td>\n",
       "      <td>0</td>\n",
       "      <td>At Rancho Bernardo Rd - Accident. Obstruction ...</td>\n",
       "      <td>NaN</td>\n",
       "      <td>...</td>\n",
       "      <td>FALSE</td>\n",
       "      <td>FALSE</td>\n",
       "      <td>FALSE</td>\n",
       "      <td>FALSE</td>\n",
       "      <td>FALSE</td>\n",
       "      <td>FALSE</td>\n",
       "      <td>Day</td>\n",
       "      <td>Day</td>\n",
       "      <td>Day</td>\n",
       "      <td>Day</td>\n",
       "    </tr>\n",
       "    <tr>\n",
       "      <th>3</th>\n",
       "      <td>2</td>\n",
       "      <td>09-10-19 15:06</td>\n",
       "      <td>09-10-19 15:39</td>\n",
       "      <td>38.366671</td>\n",
       "      <td>-122.712364</td>\n",
       "      <td>38.366671</td>\n",
       "      <td>-122.712364</td>\n",
       "      <td>0</td>\n",
       "      <td>At Commerce Blvd/Wilfred Ave - Accident.</td>\n",
       "      <td>NaN</td>\n",
       "      <td>...</td>\n",
       "      <td>FALSE</td>\n",
       "      <td>FALSE</td>\n",
       "      <td>FALSE</td>\n",
       "      <td>FALSE</td>\n",
       "      <td>FALSE</td>\n",
       "      <td>FALSE</td>\n",
       "      <td>Day</td>\n",
       "      <td>Day</td>\n",
       "      <td>Day</td>\n",
       "      <td>Day</td>\n",
       "    </tr>\n",
       "    <tr>\n",
       "      <th>4</th>\n",
       "      <td>2</td>\n",
       "      <td>03-12-19 23:44</td>\n",
       "      <td>04-12-19 1:56</td>\n",
       "      <td>38.597976</td>\n",
       "      <td>-121.383093</td>\n",
       "      <td>38.597976</td>\n",
       "      <td>-121.383093</td>\n",
       "      <td>0</td>\n",
       "      <td>At Arden Way - Accident.</td>\n",
       "      <td>NaN</td>\n",
       "      <td>...</td>\n",
       "      <td>FALSE</td>\n",
       "      <td>FALSE</td>\n",
       "      <td>FALSE</td>\n",
       "      <td>FALSE</td>\n",
       "      <td>FALSE</td>\n",
       "      <td>FALSE</td>\n",
       "      <td>Night</td>\n",
       "      <td>Night</td>\n",
       "      <td>Night</td>\n",
       "      <td>Night</td>\n",
       "    </tr>\n",
       "  </tbody>\n",
       "</table>\n",
       "<p>5 rows × 46 columns</p>\n",
       "</div>"
      ],
      "text/plain": [
       "  Severity      Start_Time        End_Time  Start_Lat    Start_Lng    End_Lat  \\\n",
       "0        3   21-06-18 7:50  21-06-18 13:50   32.92393    -96.77563   32.92379   \n",
       "1        2  22-12-17 17:23  22-12-17 17:53  33.236919   -87.560966  33.236919   \n",
       "2        2  11-12-19 15:27  11-12-19 16:38   33.02304   -117.07853   33.02304   \n",
       "3        2  09-10-19 15:06  09-10-19 15:39  38.366671  -122.712364  38.366671   \n",
       "4        2  03-12-19 23:44   04-12-19 1:56  38.597976  -121.383093  38.597976   \n",
       "\n",
       "       End_Lng Distance(mi)  \\\n",
       "0    -96.76877        0.398   \n",
       "1   -87.560966            0   \n",
       "2   -117.07853            0   \n",
       "3  -122.712364            0   \n",
       "4  -121.383093            0   \n",
       "\n",
       "                                         Description Number  ... Roundabout  \\\n",
       "0  Ramp to US-75 - Accident. Two lanes blocked. H...    NaN  ...      FALSE   \n",
       "1  Accident on US-82 McFarland Blvd Westbound at ...   3200  ...      FALSE   \n",
       "2  At Rancho Bernardo Rd - Accident. Obstruction ...    NaN  ...      FALSE   \n",
       "3           At Commerce Blvd/Wilfred Ave - Accident.    NaN  ...      FALSE   \n",
       "4                           At Arden Way - Accident.    NaN  ...      FALSE   \n",
       "\n",
       "  Station   Stop Traffic_Calming Traffic_Signal Turning_Loop Sunrise_Sunset  \\\n",
       "0   FALSE  FALSE           FALSE          FALSE        FALSE            Day   \n",
       "1   FALSE  FALSE           FALSE           TRUE        FALSE          Night   \n",
       "2   FALSE  FALSE           FALSE          FALSE        FALSE            Day   \n",
       "3   FALSE  FALSE           FALSE          FALSE        FALSE            Day   \n",
       "4   FALSE  FALSE           FALSE          FALSE        FALSE          Night   \n",
       "\n",
       "  Civil_Twilight Nautical_Twilight Astronomical_Twilight  \n",
       "0            Day               Day                   Day  \n",
       "1          Night               Day                   Day  \n",
       "2            Day               Day                   Day  \n",
       "3            Day               Day                   Day  \n",
       "4          Night             Night                 Night  \n",
       "\n",
       "[5 rows x 46 columns]"
      ]
     },
     "metadata": {},
     "execution_count": 2
    }
   ],
   "metadata": {}
  },
  {
   "cell_type": "code",
   "execution_count": null,
   "source": [],
   "outputs": [],
   "metadata": {}
  },
  {
   "cell_type": "code",
   "execution_count": 3,
   "source": [
    "dff= df_final[['Severity','Description','City','County','State','Country','Visibility(mi)','Start_Time', 'End_Time']]   # These are the selected few with necessary information \r\n",
    "dff.dropna(inplace = True)\r\n",
    "dff.head()"
   ],
   "outputs": [
    {
     "output_type": "stream",
     "name": "stderr",
     "text": [
      "D:\\Users\\Ridham Suhagiya\\AppData\\Local\\Programs\\Python\\Python37-32\\lib\\site-packages\\pandas\\util\\_decorators.py:311: SettingWithCopyWarning: \n",
      "A value is trying to be set on a copy of a slice from a DataFrame\n",
      "\n",
      "See the caveats in the documentation: https://pandas.pydata.org/pandas-docs/stable/user_guide/indexing.html#returning-a-view-versus-a-copy\n",
      "  return func(*args, **kwargs)\n"
     ]
    },
    {
     "output_type": "execute_result",
     "data": {
      "text/html": [
       "<div>\n",
       "<style scoped>\n",
       "    .dataframe tbody tr th:only-of-type {\n",
       "        vertical-align: middle;\n",
       "    }\n",
       "\n",
       "    .dataframe tbody tr th {\n",
       "        vertical-align: top;\n",
       "    }\n",
       "\n",
       "    .dataframe thead th {\n",
       "        text-align: right;\n",
       "    }\n",
       "</style>\n",
       "<table border=\"1\" class=\"dataframe\">\n",
       "  <thead>\n",
       "    <tr style=\"text-align: right;\">\n",
       "      <th></th>\n",
       "      <th>Severity</th>\n",
       "      <th>Description</th>\n",
       "      <th>City</th>\n",
       "      <th>County</th>\n",
       "      <th>State</th>\n",
       "      <th>Country</th>\n",
       "      <th>Visibility(mi)</th>\n",
       "      <th>Start_Time</th>\n",
       "      <th>End_Time</th>\n",
       "    </tr>\n",
       "  </thead>\n",
       "  <tbody>\n",
       "    <tr>\n",
       "      <th>0</th>\n",
       "      <td>3</td>\n",
       "      <td>Ramp to US-75 - Accident. Two lanes blocked. H...</td>\n",
       "      <td>Dallas</td>\n",
       "      <td>Dallas</td>\n",
       "      <td>TX</td>\n",
       "      <td>US</td>\n",
       "      <td>10</td>\n",
       "      <td>21-06-18 7:50</td>\n",
       "      <td>21-06-18 13:50</td>\n",
       "    </tr>\n",
       "    <tr>\n",
       "      <th>1</th>\n",
       "      <td>2</td>\n",
       "      <td>Accident on US-82 McFarland Blvd Westbound at ...</td>\n",
       "      <td>Northport</td>\n",
       "      <td>Tuscaloosa</td>\n",
       "      <td>AL</td>\n",
       "      <td>US</td>\n",
       "      <td>4</td>\n",
       "      <td>22-12-17 17:23</td>\n",
       "      <td>22-12-17 17:53</td>\n",
       "    </tr>\n",
       "    <tr>\n",
       "      <th>2</th>\n",
       "      <td>2</td>\n",
       "      <td>At Rancho Bernardo Rd - Accident. Obstruction ...</td>\n",
       "      <td>San Diego</td>\n",
       "      <td>San Diego</td>\n",
       "      <td>CA</td>\n",
       "      <td>US</td>\n",
       "      <td>10</td>\n",
       "      <td>11-12-19 15:27</td>\n",
       "      <td>11-12-19 16:38</td>\n",
       "    </tr>\n",
       "    <tr>\n",
       "      <th>3</th>\n",
       "      <td>2</td>\n",
       "      <td>At Commerce Blvd/Wilfred Ave - Accident.</td>\n",
       "      <td>Santa Rosa</td>\n",
       "      <td>Sonoma</td>\n",
       "      <td>CA</td>\n",
       "      <td>US</td>\n",
       "      <td>10</td>\n",
       "      <td>09-10-19 15:06</td>\n",
       "      <td>09-10-19 15:39</td>\n",
       "    </tr>\n",
       "    <tr>\n",
       "      <th>4</th>\n",
       "      <td>2</td>\n",
       "      <td>At Arden Way - Accident.</td>\n",
       "      <td>Sacramento</td>\n",
       "      <td>Sacramento</td>\n",
       "      <td>CA</td>\n",
       "      <td>US</td>\n",
       "      <td>0.25</td>\n",
       "      <td>03-12-19 23:44</td>\n",
       "      <td>04-12-19 1:56</td>\n",
       "    </tr>\n",
       "  </tbody>\n",
       "</table>\n",
       "</div>"
      ],
      "text/plain": [
       "  Severity                                        Description        City  \\\n",
       "0        3  Ramp to US-75 - Accident. Two lanes blocked. H...      Dallas   \n",
       "1        2  Accident on US-82 McFarland Blvd Westbound at ...   Northport   \n",
       "2        2  At Rancho Bernardo Rd - Accident. Obstruction ...   San Diego   \n",
       "3        2           At Commerce Blvd/Wilfred Ave - Accident.  Santa Rosa   \n",
       "4        2                           At Arden Way - Accident.  Sacramento   \n",
       "\n",
       "       County State Country Visibility(mi)      Start_Time        End_Time  \n",
       "0      Dallas    TX      US             10   21-06-18 7:50  21-06-18 13:50  \n",
       "1  Tuscaloosa    AL      US              4  22-12-17 17:23  22-12-17 17:53  \n",
       "2   San Diego    CA      US             10  11-12-19 15:27  11-12-19 16:38  \n",
       "3      Sonoma    CA      US             10  09-10-19 15:06  09-10-19 15:39  \n",
       "4  Sacramento    CA      US           0.25  03-12-19 23:44   04-12-19 1:56  "
      ]
     },
     "metadata": {},
     "execution_count": 3
    }
   ],
   "metadata": {}
  },
  {
   "cell_type": "markdown",
   "source": [
    "# I have taken visiblity as the factor  because it is a very key thing .\r\n",
    "# while you drive to be able to see while driving is the most important thing"
   ],
   "metadata": {}
  },
  {
   "cell_type": "code",
   "execution_count": 4,
   "source": [
    "dff.isnull().sum()"
   ],
   "outputs": [
    {
     "output_type": "execute_result",
     "data": {
      "text/plain": [
       "Severity          0\n",
       "Description       0\n",
       "City              0\n",
       "County            0\n",
       "State             0\n",
       "Country           0\n",
       "Visibility(mi)    0\n",
       "Start_Time        0\n",
       "End_Time          0\n",
       "dtype: int64"
      ]
     },
     "metadata": {},
     "execution_count": 4
    }
   ],
   "metadata": {}
  },
  {
   "cell_type": "code",
   "execution_count": 5,
   "source": [
    "dff['Visibility(mi)'].unique()              # Checking for any dummy data in visibility"
   ],
   "outputs": [
    {
     "output_type": "execute_result",
     "data": {
      "text/plain": [
       "array(['10', '4', '0.25', '6', '5', '8', '3', '7', '2', '9', '80', '1',\n",
       "       '0.75', '0.5', '30', '0.8', '0.2', '2.5', '1.5', '1.2', '15',\n",
       "       '1.8', '0', '75', '45', '0.38', 'Visibility(mi)', '20', '0.1',\n",
       "       '13', '1.6', '70', '40', '1.1', '60', '0.12', '50', '0.06', 9.0,\n",
       "       10.0, 4.0, 7.0, 1.2, 3.0, 5.0, 6.0, 8.0, 0.0, 0.5, 60.0, 25.0,\n",
       "       15.0, 2.0, 1.0, 12.0, 2.5, 20.0, 0.2, 1.5, 50.0, 30.0, 0.8, 0.75,\n",
       "       0.1, 1.8, 0.25, 13.0, 11.0, 45.0, 35.0, 40.0, '25', '0.19', '10.5',\n",
       "       2.8, 0.12], dtype=object)"
      ]
     },
     "metadata": {},
     "execution_count": 5
    }
   ],
   "metadata": {}
  },
  {
   "cell_type": "code",
   "execution_count": 6,
   "source": [
    "def Visiblity(df):\r\n",
    "    if df != 'Visibility(mi)':\r\n",
    "        return float(df)                                            #Remoing the dummy data\r\n",
    "dff['Visibility(mi)'] = dff['Visibility(mi)'].apply(Visiblity )\r\n",
    "dff.dropna(inplace = True)"
   ],
   "outputs": [
    {
     "output_type": "stream",
     "name": "stderr",
     "text": [
      "D:\\Users\\Ridham Suhagiya\\AppData\\Local\\Programs\\Python\\Python37-32\\lib\\site-packages\\ipykernel_launcher.py:4: SettingWithCopyWarning: \n",
      "A value is trying to be set on a copy of a slice from a DataFrame.\n",
      "Try using .loc[row_indexer,col_indexer] = value instead\n",
      "\n",
      "See the caveats in the documentation: https://pandas.pydata.org/pandas-docs/stable/user_guide/indexing.html#returning-a-view-versus-a-copy\n",
      "  after removing the cwd from sys.path.\n",
      "D:\\Users\\Ridham Suhagiya\\AppData\\Local\\Programs\\Python\\Python37-32\\lib\\site-packages\\pandas\\util\\_decorators.py:311: SettingWithCopyWarning: \n",
      "A value is trying to be set on a copy of a slice from a DataFrame\n",
      "\n",
      "See the caveats in the documentation: https://pandas.pydata.org/pandas-docs/stable/user_guide/indexing.html#returning-a-view-versus-a-copy\n",
      "  return func(*args, **kwargs)\n"
     ]
    }
   ],
   "metadata": {}
  },
  {
   "cell_type": "code",
   "execution_count": 7,
   "source": [
    "dff['Visibility(mi)'].unique()                      #Again Check to make sure of everything"
   ],
   "outputs": [
    {
     "output_type": "execute_result",
     "data": {
      "text/plain": [
       "array([1.00e+01, 4.00e+00, 2.50e-01, 6.00e+00, 5.00e+00, 8.00e+00,\n",
       "       3.00e+00, 7.00e+00, 2.00e+00, 9.00e+00, 8.00e+01, 1.00e+00,\n",
       "       7.50e-01, 5.00e-01, 3.00e+01, 8.00e-01, 2.00e-01, 2.50e+00,\n",
       "       1.50e+00, 1.20e+00, 1.50e+01, 1.80e+00, 0.00e+00, 7.50e+01,\n",
       "       4.50e+01, 3.80e-01, 2.00e+01, 1.00e-01, 1.30e+01, 1.60e+00,\n",
       "       7.00e+01, 4.00e+01, 1.10e+00, 6.00e+01, 1.20e-01, 5.00e+01,\n",
       "       6.00e-02, 2.50e+01, 1.20e+01, 1.10e+01, 3.50e+01, 1.90e-01,\n",
       "       1.05e+01, 2.80e+00])"
      ]
     },
     "metadata": {},
     "execution_count": 7
    }
   ],
   "metadata": {}
  },
  {
   "cell_type": "code",
   "execution_count": 8,
   "source": [
    "dct = {}                                    # grouped the dataframe with respect to the years \r\n",
    "                                            # to remove the max,min and all other values of the accidents which occured in the following years\r\n",
    "                                            # And took row row as the number of accidents occured in that year.\r\n",
    "for keys,dataf in dff.groupby('Visibility(mi)'):     \r\n",
    "    dct[keys] = dataf.shape[0]\r\n"
   ],
   "outputs": [],
   "metadata": {}
  },
  {
   "cell_type": "code",
   "execution_count": 9,
   "source": [
    "df6 = pd.DataFrame(dct.values(),dct.keys())\r\n",
    "df6['Visibility'] = df6.index     # Converting the dct to a DataFrame for better visualisatin\r\n",
    "df6 = df6.rename(columns={0:'Accidents'})\r\n",
    "df6.head()      # Number of Accident occured in the following years"
   ],
   "outputs": [
    {
     "output_type": "execute_result",
     "data": {
      "text/html": [
       "<div>\n",
       "<style scoped>\n",
       "    .dataframe tbody tr th:only-of-type {\n",
       "        vertical-align: middle;\n",
       "    }\n",
       "\n",
       "    .dataframe tbody tr th {\n",
       "        vertical-align: top;\n",
       "    }\n",
       "\n",
       "    .dataframe thead th {\n",
       "        text-align: right;\n",
       "    }\n",
       "</style>\n",
       "<table border=\"1\" class=\"dataframe\">\n",
       "  <thead>\n",
       "    <tr style=\"text-align: right;\">\n",
       "      <th></th>\n",
       "      <th>Accidents</th>\n",
       "      <th>Visibility</th>\n",
       "    </tr>\n",
       "  </thead>\n",
       "  <tbody>\n",
       "    <tr>\n",
       "      <th>0.00</th>\n",
       "      <td>16</td>\n",
       "      <td>0.00</td>\n",
       "    </tr>\n",
       "    <tr>\n",
       "      <th>0.06</th>\n",
       "      <td>1</td>\n",
       "      <td>0.06</td>\n",
       "    </tr>\n",
       "    <tr>\n",
       "      <th>0.10</th>\n",
       "      <td>7</td>\n",
       "      <td>0.10</td>\n",
       "    </tr>\n",
       "    <tr>\n",
       "      <th>0.12</th>\n",
       "      <td>3</td>\n",
       "      <td>0.12</td>\n",
       "    </tr>\n",
       "    <tr>\n",
       "      <th>0.19</th>\n",
       "      <td>1</td>\n",
       "      <td>0.19</td>\n",
       "    </tr>\n",
       "  </tbody>\n",
       "</table>\n",
       "</div>"
      ],
      "text/plain": [
       "      Accidents  Visibility\n",
       "0.00         16        0.00\n",
       "0.06          1        0.06\n",
       "0.10          7        0.10\n",
       "0.12          3        0.12\n",
       "0.19          1        0.19"
      ]
     },
     "metadata": {},
     "execution_count": 9
    }
   ],
   "metadata": {}
  },
  {
   "cell_type": "code",
   "execution_count": 10,
   "source": [
    "df6[df6.Accidents == max(df6.Accidents)]        # Max of Accident occurence "
   ],
   "outputs": [
    {
     "output_type": "execute_result",
     "data": {
      "text/html": [
       "<div>\n",
       "<style scoped>\n",
       "    .dataframe tbody tr th:only-of-type {\n",
       "        vertical-align: middle;\n",
       "    }\n",
       "\n",
       "    .dataframe tbody tr th {\n",
       "        vertical-align: top;\n",
       "    }\n",
       "\n",
       "    .dataframe thead th {\n",
       "        text-align: right;\n",
       "    }\n",
       "</style>\n",
       "<table border=\"1\" class=\"dataframe\">\n",
       "  <thead>\n",
       "    <tr style=\"text-align: right;\">\n",
       "      <th></th>\n",
       "      <th>Accidents</th>\n",
       "      <th>Visibility</th>\n",
       "    </tr>\n",
       "  </thead>\n",
       "  <tbody>\n",
       "    <tr>\n",
       "      <th>10.0</th>\n",
       "      <td>18388</td>\n",
       "      <td>10.0</td>\n",
       "    </tr>\n",
       "  </tbody>\n",
       "</table>\n",
       "</div>"
      ],
      "text/plain": [
       "      Accidents  Visibility\n",
       "10.0      18388        10.0"
      ]
     },
     "metadata": {},
     "execution_count": 10
    }
   ],
   "metadata": {}
  },
  {
   "cell_type": "code",
   "execution_count": 11,
   "source": [
    "\r\n",
    "df6  = df6.sort_values(by = 'Visibility')           #Sorting the dataframe with respect to the Visibility\r\n"
   ],
   "outputs": [],
   "metadata": {}
  },
  {
   "cell_type": "code",
   "execution_count": 12,
   "source": [
    "plt.plot(df6['Visibility'],df6.Accidents)\r\n",
    "plt.show()                                          #PLot of visibility against accidents"
   ],
   "outputs": [
    {
     "output_type": "display_data",
     "data": {
      "image/png": "[encoded data removed]",
      "text/plain": [
       "<Figure size 432x288 with 1 Axes>"
      ]
     },
     "metadata": {
      "needs_background": "light"
     }
    }
   ],
   "metadata": {}
  },
  {
   "cell_type": "markdown",
   "source": [
    "I think my Studies are right it seems like when visibility is too low like below 2 people seem to stay home or drive very carefully \r\n",
    "but when some visibility is increased people seem to gain confidence and drive a bit fast but its still not clear so they may fall into an accident like near 10 the accidents takes its peak.After that as the visibility is high enough after 10 its quite easy to drive .\r\n",
    "This is my thinking the reason may or may not be different "
   ],
   "metadata": {}
  }
 ],
 "metadata": {
  "orig_nbformat": 4,
  "language_info": {
   "name": "python",
   "version": "3.7.4",
   "mimetype": "text/x-python",
   "codemirror_mode": {
    "name": "ipython",
    "version": 3
   },
   "pygments_lexer": "ipython3",
   "nbconvert_exporter": "python",
   "file_extension": ".py"
  },
  "kernelspec": {
   "name": "python3",
   "display_name": "Python 3.7.4 32-bit"
  },
  "interpreter": {
   "hash": "d253451f575e0ec75da8c3481061c2c793d974f3e9a97c2104602863c13606f7"
  }
 },
 "nbformat": 4,
 "nbformat_minor": 2
}