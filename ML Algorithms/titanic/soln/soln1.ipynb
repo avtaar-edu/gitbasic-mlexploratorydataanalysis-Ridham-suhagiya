{
 "cells": [
  {
   "cell_type": "code",
   "execution_count": 821,
   "source": [
    "import pandas as pd\r\n",
    "import numpy as np\r\n",
    "import matplotlib.pyplot as plt\r\n"
   ],
   "outputs": [],
   "metadata": {}
  },
  {
   "cell_type": "markdown",
   "source": [
    "MODEL WITH AN EXTRA FEATURE OF TICKET"
   ],
   "metadata": {}
  },
  {
   "cell_type": "code",
   "execution_count": 822,
   "source": [
    "df_train = pd.read_csv('train.csv')\r\n",
    "df_test = pd.read_csv('test.csv')\r\n",
    "df_test.head()                          #Reading the test and train file"
   ],
   "outputs": [
    {
     "output_type": "execute_result",
     "data": {
      "text/html": [
       "<div>\n",
       "<style scoped>\n",
       "    .dataframe tbody tr th:only-of-type {\n",
       "        vertical-align: middle;\n",
       "    }\n",
       "\n",
       "    .dataframe tbody tr th {\n",
       "        vertical-align: top;\n",
       "    }\n",
       "\n",
       "    .dataframe thead th {\n",
       "        text-align: right;\n",
       "    }\n",
       "</style>\n",
       "<table border=\"1\" class=\"dataframe\">\n",
       "  <thead>\n",
       "    <tr style=\"text-align: right;\">\n",
       "      <th></th>\n",
       "      <th>PassengerId</th>\n",
       "      <th>Pclass</th>\n",
       "      <th>Name</th>\n",
       "      <th>Sex</th>\n",
       "      <th>Age</th>\n",
       "      <th>SibSp</th>\n",
       "      <th>Parch</th>\n",
       "      <th>Ticket</th>\n",
       "      <th>Fare</th>\n",
       "      <th>Cabin</th>\n",
       "      <th>Embarked</th>\n",
       "    </tr>\n",
       "  </thead>\n",
       "  <tbody>\n",
       "    <tr>\n",
       "      <th>0</th>\n",
       "      <td>892</td>\n",
       "      <td>3</td>\n",
       "      <td>Kelly, Mr. James</td>\n",
       "      <td>male</td>\n",
       "      <td>34.5</td>\n",
       "      <td>0</td>\n",
       "      <td>0</td>\n",
       "      <td>330911</td>\n",
       "      <td>7.8292</td>\n",
       "      <td>NaN</td>\n",
       "      <td>Q</td>\n",
       "    </tr>\n",
       "    <tr>\n",
       "      <th>1</th>\n",
       "      <td>893</td>\n",
       "      <td>3</td>\n",
       "      <td>Wilkes, Mrs. James (Ellen Needs)</td>\n",
       "      <td>female</td>\n",
       "      <td>47.0</td>\n",
       "      <td>1</td>\n",
       "      <td>0</td>\n",
       "      <td>363272</td>\n",
       "      <td>7.0000</td>\n",
       "      <td>NaN</td>\n",
       "      <td>S</td>\n",
       "    </tr>\n",
       "    <tr>\n",
       "      <th>2</th>\n",
       "      <td>894</td>\n",
       "      <td>2</td>\n",
       "      <td>Myles, Mr. Thomas Francis</td>\n",
       "      <td>male</td>\n",
       "      <td>62.0</td>\n",
       "      <td>0</td>\n",
       "      <td>0</td>\n",
       "      <td>240276</td>\n",
       "      <td>9.6875</td>\n",
       "      <td>NaN</td>\n",
       "      <td>Q</td>\n",
       "    </tr>\n",
       "    <tr>\n",
       "      <th>3</th>\n",
       "      <td>895</td>\n",
       "      <td>3</td>\n",
       "      <td>Wirz, Mr. Albert</td>\n",
       "      <td>male</td>\n",
       "      <td>27.0</td>\n",
       "      <td>0</td>\n",
       "      <td>0</td>\n",
       "      <td>315154</td>\n",
       "      <td>8.6625</td>\n",
       "      <td>NaN</td>\n",
       "      <td>S</td>\n",
       "    </tr>\n",
       "    <tr>\n",
       "      <th>4</th>\n",
       "      <td>896</td>\n",
       "      <td>3</td>\n",
       "      <td>Hirvonen, Mrs. Alexander (Helga E Lindqvist)</td>\n",
       "      <td>female</td>\n",
       "      <td>22.0</td>\n",
       "      <td>1</td>\n",
       "      <td>1</td>\n",
       "      <td>3101298</td>\n",
       "      <td>12.2875</td>\n",
       "      <td>NaN</td>\n",
       "      <td>S</td>\n",
       "    </tr>\n",
       "  </tbody>\n",
       "</table>\n",
       "</div>"
      ],
      "text/plain": [
       "   PassengerId  Pclass                                          Name     Sex  \\\n",
       "0          892       3                              Kelly, Mr. James    male   \n",
       "1          893       3              Wilkes, Mrs. James (Ellen Needs)  female   \n",
       "2          894       2                     Myles, Mr. Thomas Francis    male   \n",
       "3          895       3                              Wirz, Mr. Albert    male   \n",
       "4          896       3  Hirvonen, Mrs. Alexander (Helga E Lindqvist)  female   \n",
       "\n",
       "    Age  SibSp  Parch   Ticket     Fare Cabin Embarked  \n",
       "0  34.5      0      0   330911   7.8292   NaN        Q  \n",
       "1  47.0      1      0   363272   7.0000   NaN        S  \n",
       "2  62.0      0      0   240276   9.6875   NaN        Q  \n",
       "3  27.0      0      0   315154   8.6625   NaN        S  \n",
       "4  22.0      1      1  3101298  12.2875   NaN        S  "
      ]
     },
     "metadata": {},
     "execution_count": 822
    }
   ],
   "metadata": {}
  },
  {
   "cell_type": "code",
   "execution_count": 823,
   "source": [
    "df_train.isnull().sum()         #Getting known of the null values in the train dataset"
   ],
   "outputs": [
    {
     "output_type": "execute_result",
     "data": {
      "text/plain": [
       "PassengerId      0\n",
       "Survived         0\n",
       "Pclass           0\n",
       "Name             0\n",
       "Sex              0\n",
       "Age            177\n",
       "SibSp            0\n",
       "Parch            0\n",
       "Ticket           0\n",
       "Fare             0\n",
       "Cabin          687\n",
       "Embarked         2\n",
       "dtype: int64"
      ]
     },
     "metadata": {},
     "execution_count": 823
    }
   ],
   "metadata": {}
  },
  {
   "cell_type": "code",
   "execution_count": 824,
   "source": [
    "df_test.isnull().sum()                  #Getting known of the null values in the test dataset"
   ],
   "outputs": [
    {
     "output_type": "execute_result",
     "data": {
      "text/plain": [
       "PassengerId      0\n",
       "Pclass           0\n",
       "Name             0\n",
       "Sex              0\n",
       "Age             86\n",
       "SibSp            0\n",
       "Parch            0\n",
       "Ticket           0\n",
       "Fare             1\n",
       "Cabin          327\n",
       "Embarked         0\n",
       "dtype: int64"
      ]
     },
     "metadata": {},
     "execution_count": 824
    }
   ],
   "metadata": {}
  },
  {
   "cell_type": "code",
   "execution_count": 825,
   "source": [
    "print(df_test.shape)\r\n",
    "df_train.shape                      #Shape of train and test dataset"
   ],
   "outputs": [
    {
     "output_type": "stream",
     "name": "stdout",
     "text": [
      "(418, 11)\n"
     ]
    },
    {
     "output_type": "execute_result",
     "data": {
      "text/plain": [
       "(891, 12)"
      ]
     },
     "metadata": {},
     "execution_count": 825
    }
   ],
   "metadata": {}
  },
  {
   "cell_type": "code",
   "execution_count": 826,
   "source": [
    "def respected(df):                      #Getting the title of from the names column of both the test and train dataset to calculate the average age of the person\r\n",
    "    temp  = df.split(',')[1]\r\n",
    "    temp1 = temp.split('.')[0]\r\n",
    "    return temp1.strip()\r\n",
    "df_train['respected'] = df_train['Name'].apply(respected)\r\n",
    "df_test['respected'] = df_test['Name'].apply(respected)\r\n"
   ],
   "outputs": [],
   "metadata": {}
  },
  {
   "cell_type": "code",
   "execution_count": 827,
   "source": [
    "def Age(df):                                                        #Calculating the average age of the person on the basis of the title they have \r\n",
    "    df_temp = pd.DataFrame()                                        #Doing this operation on both of the datasets with the help of a function \r\n",
    "                                                                    # Converting the Sex column to 1 and 0 because the machine cannot understand string \r\n",
    "    for key,dataf in df.groupby('respected'):\r\n",
    "        temp = (dataf.Age.mean())\r\n",
    "        dataf['Age'].fillna(temp,inplace = True)\r\n",
    "        df_temp = pd.concat([df_temp,dataf],ignore_index=True)\r\n",
    "    return df_temp\r\n",
    "def Sex (df):\r\n",
    "    if df == 'male':\r\n",
    "        return 1\r\n",
    "    return 0\r\n",
    "lst = []\r\n",
    "for df in [df_train,df_test]:\r\n",
    "    df_temp = Age(df)\r\n",
    "    df_temp['Sex'] = df_temp['Sex'].apply(Sex)\r\n",
    "    lst.append(df_temp)\r\n",
    "    df_temp = pd.DataFrame()\r\n",
    "df_train,df_test = lst"
   ],
   "outputs": [],
   "metadata": {}
  },
  {
   "cell_type": "code",
   "execution_count": 828,
   "source": [
    "df_train.Age = df_train.Age.apply(lambda x: np.floor(x))            #Converting the floating value of age to an integer\r\n",
    "df_test.Age = df_test.Age.apply(lambda x: np.floor(x))\r\n",
    "df_train.head()"
   ],
   "outputs": [
    {
     "output_type": "execute_result",
     "data": {
      "text/html": [
       "<div>\n",
       "<style scoped>\n",
       "    .dataframe tbody tr th:only-of-type {\n",
       "        vertical-align: middle;\n",
       "    }\n",
       "\n",
       "    .dataframe tbody tr th {\n",
       "        vertical-align: top;\n",
       "    }\n",
       "\n",
       "    .dataframe thead th {\n",
       "        text-align: right;\n",
       "    }\n",
       "</style>\n",
       "<table border=\"1\" class=\"dataframe\">\n",
       "  <thead>\n",
       "    <tr style=\"text-align: right;\">\n",
       "      <th></th>\n",
       "      <th>PassengerId</th>\n",
       "      <th>Survived</th>\n",
       "      <th>Pclass</th>\n",
       "      <th>Name</th>\n",
       "      <th>Sex</th>\n",
       "      <th>Age</th>\n",
       "      <th>SibSp</th>\n",
       "      <th>Parch</th>\n",
       "      <th>Ticket</th>\n",
       "      <th>Fare</th>\n",
       "      <th>Cabin</th>\n",
       "      <th>Embarked</th>\n",
       "      <th>respected</th>\n",
       "    </tr>\n",
       "  </thead>\n",
       "  <tbody>\n",
       "    <tr>\n",
       "      <th>0</th>\n",
       "      <td>746</td>\n",
       "      <td>0</td>\n",
       "      <td>1</td>\n",
       "      <td>Crosby, Capt. Edward Gifford</td>\n",
       "      <td>1</td>\n",
       "      <td>70.0</td>\n",
       "      <td>1</td>\n",
       "      <td>1</td>\n",
       "      <td>WE/P 5735</td>\n",
       "      <td>71.0000</td>\n",
       "      <td>B22</td>\n",
       "      <td>S</td>\n",
       "      <td>Capt</td>\n",
       "    </tr>\n",
       "    <tr>\n",
       "      <th>1</th>\n",
       "      <td>648</td>\n",
       "      <td>1</td>\n",
       "      <td>1</td>\n",
       "      <td>Simonius-Blumer, Col. Oberst Alfons</td>\n",
       "      <td>1</td>\n",
       "      <td>56.0</td>\n",
       "      <td>0</td>\n",
       "      <td>0</td>\n",
       "      <td>13213</td>\n",
       "      <td>35.5000</td>\n",
       "      <td>A26</td>\n",
       "      <td>C</td>\n",
       "      <td>Col</td>\n",
       "    </tr>\n",
       "    <tr>\n",
       "      <th>2</th>\n",
       "      <td>695</td>\n",
       "      <td>0</td>\n",
       "      <td>1</td>\n",
       "      <td>Weir, Col. John</td>\n",
       "      <td>1</td>\n",
       "      <td>60.0</td>\n",
       "      <td>0</td>\n",
       "      <td>0</td>\n",
       "      <td>113800</td>\n",
       "      <td>26.5500</td>\n",
       "      <td>NaN</td>\n",
       "      <td>S</td>\n",
       "      <td>Col</td>\n",
       "    </tr>\n",
       "    <tr>\n",
       "      <th>3</th>\n",
       "      <td>31</td>\n",
       "      <td>0</td>\n",
       "      <td>1</td>\n",
       "      <td>Uruchurtu, Don. Manuel E</td>\n",
       "      <td>1</td>\n",
       "      <td>40.0</td>\n",
       "      <td>0</td>\n",
       "      <td>0</td>\n",
       "      <td>PC 17601</td>\n",
       "      <td>27.7208</td>\n",
       "      <td>NaN</td>\n",
       "      <td>C</td>\n",
       "      <td>Don</td>\n",
       "    </tr>\n",
       "    <tr>\n",
       "      <th>4</th>\n",
       "      <td>246</td>\n",
       "      <td>0</td>\n",
       "      <td>1</td>\n",
       "      <td>Minahan, Dr. William Edward</td>\n",
       "      <td>1</td>\n",
       "      <td>44.0</td>\n",
       "      <td>2</td>\n",
       "      <td>0</td>\n",
       "      <td>19928</td>\n",
       "      <td>90.0000</td>\n",
       "      <td>C78</td>\n",
       "      <td>Q</td>\n",
       "      <td>Dr</td>\n",
       "    </tr>\n",
       "  </tbody>\n",
       "</table>\n",
       "</div>"
      ],
      "text/plain": [
       "   PassengerId  Survived  Pclass                                 Name  Sex  \\\n",
       "0          746         0       1         Crosby, Capt. Edward Gifford    1   \n",
       "1          648         1       1  Simonius-Blumer, Col. Oberst Alfons    1   \n",
       "2          695         0       1                      Weir, Col. John    1   \n",
       "3           31         0       1             Uruchurtu, Don. Manuel E    1   \n",
       "4          246         0       1          Minahan, Dr. William Edward    1   \n",
       "\n",
       "    Age  SibSp  Parch     Ticket     Fare Cabin Embarked respected  \n",
       "0  70.0      1      1  WE/P 5735  71.0000   B22        S      Capt  \n",
       "1  56.0      0      0      13213  35.5000   A26        C       Col  \n",
       "2  60.0      0      0     113800  26.5500   NaN        S       Col  \n",
       "3  40.0      0      0   PC 17601  27.7208   NaN        C       Don  \n",
       "4  44.0      2      0      19928  90.0000   C78        Q        Dr  "
      ]
     },
     "metadata": {},
     "execution_count": 828
    }
   ],
   "metadata": {}
  },
  {
   "cell_type": "code",
   "execution_count": 829,
   "source": [
    "df_train.Ticket[df_train.Ticket == 'LINE']"
   ],
   "outputs": [
    {
     "output_type": "execute_result",
     "data": {
      "text/plain": [
       "341    LINE\n",
       "393    LINE\n",
       "411    LINE\n",
       "578    LINE\n",
       "Name: Ticket, dtype: object"
      ]
     },
     "metadata": {},
     "execution_count": 829
    }
   ],
   "metadata": {}
  },
  {
   "cell_type": "code",
   "execution_count": 830,
   "source": [
    "def Ticket(df):                                         #Ticket columns is filter with all the string litrals in it\r\n",
    "    if df != 'LINE':\r\n",
    "        return int(df.split(' ')[-1])\r\n",
    "    \r\n",
    "df_train['Ticket'] = df_train['Ticket'].apply(Ticket)\r\n",
    "df_test['Ticket'] = df_test['Ticket'].apply(Ticket)"
   ],
   "outputs": [],
   "metadata": {}
  },
  {
   "cell_type": "code",
   "execution_count": 831,
   "source": [
    "df_train.fillna(df_train.mean(),inplace = True)                              # Fillig the null values with the aberage value of the ticket colume"
   ],
   "outputs": [
    {
     "output_type": "stream",
     "name": "stderr",
     "text": [
      "D:\\Users\\Ridham Suhagiya\\AppData\\Local\\Programs\\Python\\Python37-32\\lib\\site-packages\\ipykernel_launcher.py:1: FutureWarning: Dropping of nuisance columns in DataFrame reductions (with 'numeric_only=None') is deprecated; in a future version this will raise TypeError.  Select only valid columns before calling the reduction.\n",
      "  \"\"\"Entry point for launching an IPython kernel.\n"
     ]
    }
   ],
   "metadata": {}
  },
  {
   "cell_type": "code",
   "execution_count": 832,
   "source": [
    "df_train.isnull().sum()         # Checking the null values "
   ],
   "outputs": [
    {
     "output_type": "execute_result",
     "data": {
      "text/plain": [
       "PassengerId      0\n",
       "Survived         0\n",
       "Pclass           0\n",
       "Name             0\n",
       "Sex              0\n",
       "Age              0\n",
       "SibSp            0\n",
       "Parch            0\n",
       "Ticket           0\n",
       "Fare             0\n",
       "Cabin          687\n",
       "Embarked         2\n",
       "respected        0\n",
       "dtype: int64"
      ]
     },
     "metadata": {},
     "execution_count": 832
    }
   ],
   "metadata": {}
  },
  {
   "cell_type": "code",
   "execution_count": 833,
   "source": [
    "df_train.Ticket.unique()        #All unique values in ticket column"
   ],
   "outputs": [
    {
     "output_type": "execute_result",
     "data": {
      "text/plain": [
       "array([5.73500000e+03, 1.32130000e+04, 1.13800000e+05, 1.76010000e+04,\n",
       "       1.99280000e+04, 2.90110000e+04, 2.44278000e+05, 1.32140000e+04,\n",
       "       1.76110000e+04, 1.12379000e+05, 1.74650000e+04, 1.99720000e+04,\n",
       "       1.17550000e+04, 1.13786000e+05, 1.13050000e+05, 3.49909000e+05,\n",
       "       3.82652000e+05, 3.10129500e+06, 2.14400000e+03, 3.47088000e+05,\n",
       "       2.66100000e+03, 2.48738000e+05, 2.65100000e+03, 2.34300000e+03,\n",
       "       3.63291000e+05, 4.13300000e+03, 3.47077000e+05, 2.30136000e+05,\n",
       "       2.30080000e+05, 1.13781000e+05, 3.76710000e+04, 2.91060000e+04,\n",
       "       3.36380000e+04, 3.31120000e+04, 3.92096000e+05, 2.50649000e+05,\n",
       "       2.31500000e+03, 1.13760000e+05, 2.62500000e+03, 2.07900000e+03,\n",
       "       3.47082000e+05, 3.47742000e+05, 3.10128200e+06, 9.54900000e+03,\n",
       "       1.13783000e+05, 3.50406000e+05, 3.30923000e+05, 3.30959000e+05,\n",
       "       3.35677000e+05, 3.45764000e+05, 2.12300000e+03, 3.30958000e+05,\n",
       "       1.43110000e+04, 3.10260000e+04, 3.46510000e+04, 1.13572000e+05,\n",
       "       3.10128100e+06, 3.64516000e+05, 3.30932000e+05, 1.48850000e+04,\n",
       "       1.99500000e+04, 3.49245000e+05, 3.43120000e+05, 3.71110000e+05,\n",
       "       2.66500000e+03, 4.13600000e+03, 2.62700000e+03, 2.72670000e+04,\n",
       "       2.66800000e+03, 1.17520000e+04, 3.47081000e+05, 6.60800000e+03,\n",
       "       3.58510000e+04, 1.75950000e+04, 3.15153000e+05, 3.50046000e+05,\n",
       "       1.75690000e+04, 3.70370000e+05, 2.48747000e+05, 3.47054000e+05,\n",
       "       3.67231000e+05, 1.35280000e+04, 3.52730000e+04, 3.10128300e+06,\n",
       "       1.18130000e+04, 6.60900000e+03, 3.19210000e+04, 3.67230000e+05,\n",
       "       3.47071000e+05, 1.10152000e+05, 1.77550000e+04, 3.82649000e+05,\n",
       "       1.77600000e+04, 3.70375000e+05, 1.35020000e+04, 3.47073000e+05,\n",
       "       3.70373000e+05, 1.98770000e+04, 3.49236000e+05, 9.23400000e+03,\n",
       "       2.26593000e+05, 1.74210000e+04, 1.74850000e+04, 1.17670000e+04,\n",
       "       1.76080000e+04, 3.47470000e+05, 3.69280000e+04, 2.34818000e+05,\n",
       "       1.11361000e+05, 3.67226000e+05, 1.69660000e+04, 2.48733000e+05,\n",
       "       3.14180000e+04, 1.13505000e+05, 2.37671000e+05, 3.30931000e+05,\n",
       "       3.30980000e+05, 1.43130000e+04, 7.07700000e+03, 1.77570000e+04,\n",
       "       2.65300000e+03, 2.78490000e+04, 1.74800000e+03, 3.50407000e+05,\n",
       "       4.13700000e+03, 3.15096000e+05, 2.50652000e+05, 3.45773000e+05,\n",
       "       2.50655000e+05, 2.50644000e+05, 2.66600000e+03, 1.35310000e+04,\n",
       "       7.55300000e+03, 3.10129800e+06, 3.69470000e+04, 3.64846000e+05,\n",
       "       3.30909000e+05, 4.13500000e+03, 1.27490000e+04, 1.42580000e+04,\n",
       "       2.63600000e+04, 3.15084000e+05, 1.35290000e+04, 1.77610000e+04,\n",
       "       1.35680000e+04, 3.47085000e+05, 3.92087000e+05, 1.43120000e+04,\n",
       "       2.43880000e+05, 2.37789000e+05, 1.10413000e+05, 3.64848000e+05,\n",
       "       2.48727000e+05, 1.75820000e+04, 2.20845000e+05, 2.37668000e+05,\n",
       "       2.31400000e+03, 2.31919000e+05, 3.30919000e+05, 3.65226000e+05,\n",
       "       4.13800000e+03, 3.30935000e+05, 2.41600000e+04, 3.49256000e+05,\n",
       "       3.58520000e+04, 2.69100000e+03, 3.42180000e+04, 3.68660000e+04,\n",
       "       3.10127100e+06, 2.50648000e+05, 2.91030000e+04, 3.64850000e+05,\n",
       "       2.68700000e+03, 3.10126500e+06, 3.47087000e+05, 3.10129000e+06,\n",
       "       1.77560000e+04, 1.13798000e+05, 2.67800000e+03, 1.75920000e+04,\n",
       "       2.14900000e+03, 2.66700000e+03, 7.55200000e+03, 1.12053000e+05,\n",
       "       6.60700000e+03, 1.74770000e+04, 1.74820000e+04, 2.11710000e+04,\n",
       "       3.73450000e+05, 3.30877000e+05, 1.74630000e+04, 2.15100000e+03,\n",
       "       2.44373000e+05, 2.39865000e+05, 2.48698000e+05, 1.13788000e+05,\n",
       "       2.63100000e+03, 3.49216000e+05, 2.45790000e+04, 1.76040000e+04,\n",
       "       1.13789000e+05, 2.67700000e+03, 2.15200000e+03, 3.49253000e+05,\n",
       "       2.35670000e+04, 3.70371000e+05, 2.66200000e+03, 3.98860000e+04,\n",
       "       1.13509000e+05, 1.99470000e+04, 2.69700000e+03, 2.66900000e+03,\n",
       "       3.69730000e+04, 1.76050000e+04, 3.46400000e+03, 3.15151000e+05,\n",
       "       3.31110000e+04, 1.48790000e+04, 2.68000000e+03, 1.60100000e+03,\n",
       "       3.48123000e+05, 3.49208000e+05, 3.74746000e+05, 3.45767000e+05,\n",
       "       3.45779000e+05, 1.13059000e+05, 3.92086000e+05, 3.43275000e+05,\n",
       "       3.43276000e+05, 3.47466000e+05, 5.73400000e+03, 3.64500000e+05,\n",
       "       3.74910000e+05, 1.77540000e+04, 1.77590000e+04, 2.44367000e+05,\n",
       "       3.49215000e+05, 3.52810000e+04, 7.54000000e+03, 3.10127600e+06,\n",
       "       3.49207000e+05, 3.12991000e+05, 3.49249000e+05, 1.10465000e+05,\n",
       "       3.24669000e+05, 3.10129400e+06, 3.70369000e+05, 1.16680000e+04,\n",
       "       1.75580000e+04, 5.45100000e+04, 2.37736000e+05, 3.70372000e+05,\n",
       "       1.73690000e+04, 3.47061000e+05, 3.49241000e+05, 3.10130700e+06,\n",
       "       2.91780000e+04, 2.13300000e+03, 1.13803000e+05, 7.53400000e+03,\n",
       "       1.75930000e+04, 3.65222000e+05, 2.31945000e+05, 3.50043000e+05,\n",
       "       1.12060000e+04, 8.51000000e+02, 2.65302000e+05, 1.75970000e+04,\n",
       "       3.92090000e+05, 3.15037000e+05, 3.71362000e+05, 3.47068000e+05,\n",
       "       3.15093000e+05, 1.73180000e+04, 1.11240000e+05, 3.10128000e+06,\n",
       "       1.77640000e+04, 3.50404000e+05, 2.50653000e+05, 2.98328417e+05,\n",
       "       2.13100000e+03, 1.13767000e+05, 1.11428000e+05, 3.64849000e+05,\n",
       "       3.49247000e+05, 2.84240000e+04, 3.68703000e+05, 4.57900000e+03,\n",
       "       3.45770000e+05, 3.10126400e+06, 2.62800000e+03, 3.54000000e+03,\n",
       "       3.10127800e+06, 2.69900000e+03, 1.12277000e+05, 3.10131100e+06,\n",
       "       2.11740000e+04, 2.50646000e+05, 3.67229000e+05, 2.43847000e+05,\n",
       "       1.42080000e+04, 3.92089000e+05, 2.20367000e+05, 2.14400000e+04,\n",
       "       3.49234000e+05, 1.99430000e+04, 4.34800000e+03, 7.51000000e+02,\n",
       "       2.11730000e+04, 2.36171000e+05, 3.47067000e+05, 2.37442000e+05,\n",
       "       2.95660000e+04, 2.67070000e+04, 2.86650000e+04, 1.58500000e+03,\n",
       "       1.42630000e+04, 3.10127500e+06, 2.69400000e+03, 1.17510000e+04,\n",
       "       3.62316000e+05, 1.13514000e+05, 3.33600000e+03, 3.84461000e+05,\n",
       "       1.12059000e+05, 1.72480000e+04, 3.47083000e+05, 1.75960000e+04,\n",
       "       2.39853000e+05, 3.36439000e+05, 3.47464000e+05, 3.45778000e+05,\n",
       "       1.04820000e+04, 1.13056000e+05, 3.49239000e+05, 3.45774000e+05,\n",
       "       3.49206000e+05, 2.37798000e+05, 2.16300000e+03, 3.49233000e+05,\n",
       "       1.76120000e+04, 2.69300000e+03, 1.99880000e+04, 2.46600000e+03,\n",
       "       3.38100000e+03, 3.49243000e+05, 2.11720000e+04, 3.49219000e+05,\n",
       "       3.45364000e+05, 1.13043000e+05, 3.49225000e+05, 1.13776000e+05,\n",
       "       7.59800000e+03, 1.13784000e+05, 2.48740000e+05, 2.44361000e+05,\n",
       "       2.29236000e+05, 3.15088000e+05, 7.26700000e+03, 1.13510000e+05,\n",
       "       2.69500000e+03, 3.49237000e+05, 2.64700000e+03, 3.45783000e+05,\n",
       "       2.16700000e+03, 3.10131000e+06, 3.70365000e+05, 7.07600000e+03,\n",
       "       1.17650000e+04, 3.10126700e+06, 3.23951000e+05, 1.13503000e+05,\n",
       "       2.64800000e+03, 3.47069000e+05, 3.10129300e+06, 3.49227000e+05,\n",
       "       3.67655000e+05, 3.50034000e+05, 3.10127700e+06, 3.50052000e+05,\n",
       "       2.84030000e+04, 3.10128900e+06, 3.41826000e+05, 3.10127900e+06,\n",
       "       2.86640000e+04, 3.47064000e+05, 3.12992000e+05, 3.49222000e+05,\n",
       "       3.94140000e+05, 3.10126900e+06, 2.82280000e+04, 3.49254000e+05,\n",
       "       1.30320000e+04, 3.15082000e+05, 3.70129000e+05, 3.42440000e+04,\n",
       "       3.64851000e+05, 3.92078000e+05, 1.10564000e+05, 3.10127400e+06,\n",
       "       1.35070000e+04, 1.87230000e+04, 3.45769000e+05, 3.47076000e+05,\n",
       "       6.53060000e+04, 1.13794000e+05, 6.53030000e+04, 1.13051000e+05,\n",
       "       1.74530000e+04, 2.81700000e+03, 3.49240000e+05, 1.35090000e+04,\n",
       "       3.71060000e+05, 1.99520000e+04, 3.64506000e+05, 1.11320000e+05,\n",
       "       2.34360000e+05, 2.81600000e+03, 3.10130600e+06, 1.13792000e+05,\n",
       "       3.62090000e+04, 3.23592000e+05, 3.15089000e+05, 3.10270000e+04,\n",
       "       3.46000000e+03, 3.50060000e+05, 2.39854000e+05, 3.59400000e+03,\n",
       "       1.19670000e+04, 1.17710000e+04, 1.85090000e+04, 6.53040000e+04,\n",
       "       3.10131700e+06, 1.13787000e+05, 1.76090000e+04, 4.53800000e+04,\n",
       "       6.21200000e+03, 3.50035000e+05, 3.15086000e+05, 1.77580000e+04,\n",
       "       1.11427000e+05, 4.00100000e+03, 3.82651000e+05, 3.10131600e+06,\n",
       "       1.74730000e+04, 3.49209000e+05, 3.69670000e+04, 3.49242000e+05,\n",
       "       3.49252000e+05, 2.62400000e+03, 2.70000000e+03, 3.67232000e+05,\n",
       "       1.74830000e+04, 3.10129600e+06, 2.91040000e+04, 2.64100000e+03,\n",
       "       2.69000000e+03, 3.64498000e+05, 2.90800000e+03, 6.93000000e+02,\n",
       "       2.14600000e+03, 2.44358000e+05, 3.30979000e+05, 2.62000000e+03,\n",
       "       1.13807000e+05, 3.72622000e+05, 3.49251000e+05, 2.18629000e+05,\n",
       "       3.92082000e+05, 4.88710000e+04, 3.49205000e+05, 2.68600000e+03,\n",
       "       3.50417000e+05, 7.52000000e+02, 1.74740000e+04, 2.05890000e+04,\n",
       "       3.58585000e+05, 3.10128600e+06, 1.30490000e+04, 3.41100000e+03,\n",
       "       2.37565000e+05, 1.35670000e+04, 1.49730000e+04, 3.23500000e+03,\n",
       "       3.10127300e+06, 3.90200000e+03, 2.90370000e+04, 2.66400000e+03,\n",
       "       3.49214000e+05, 1.13796000e+05, 3.64511000e+05, 1.11426000e+05,\n",
       "       3.49910000e+05, 3.49246000e+05, 1.13804000e+05, 3.10130500e+06,\n",
       "       3.70377000e+05, 3.64512000e+05, 3.47080000e+05, 3.10280000e+04,\n",
       "       2.65900000e+03, 1.17530000e+04, 3.50029000e+05, 5.46360000e+04,\n",
       "       3.69630000e+04, 3.49224000e+05, 3.34912000e+05, 2.70420000e+04,\n",
       "       3.47743000e+05, 1.12052000e+05, 3.10129200e+06, 3.76564000e+05,\n",
       "       3.50050000e+05, 1.75720000e+04, 3.49231000e+05, 3.49221000e+05,\n",
       "       8.47500000e+03, 3.49223000e+05, 2.97510000e+04, 2.62300000e+03,\n",
       "       5.72700000e+03, 3.49210000e+05, 3.10128500e+06, 2.34686000e+05,\n",
       "       3.12993000e+05, 3.53600000e+03, 1.27500000e+04, 2.45800000e+04,\n",
       "       2.44270000e+05, 2.39856000e+05, 3.49912000e+05, 3.42826000e+05,\n",
       "       6.56300000e+03, 2.97500000e+04, 3.49228000e+05, 3.50036000e+05,\n",
       "       2.67200000e+03, 2.48731000e+05, 3.63592000e+05, 3.48121000e+05,\n",
       "       1.74750000e+04, 3.68640000e+04, 3.50025000e+05, 1.74760000e+04,\n",
       "       1.13028000e+05, 1.99960000e+04, 7.54500000e+03, 2.50647000e+05,\n",
       "       3.48124000e+05, 3.65680000e+04, 3.47062000e+05, 3.50048000e+05,\n",
       "       1.22330000e+04, 2.50643000e+05, 1.13806000e+05, 3.15094000e+05,\n",
       "       2.36853000e+05, 2.39855000e+05, 2.84250000e+04, 2.33639000e+05,\n",
       "       3.49201000e+05, 3.49218000e+05, 1.69880000e+04, 3.76566000e+05,\n",
       "       3.10128800e+06, 2.67300000e+03, 1.13773000e+05, 3.35097000e+05,\n",
       "       3.45780000e+05, 3.49204000e+05, 3.50042000e+05, 2.91080000e+04,\n",
       "       3.63294000e+05, 3.10127200e+06, 2.66300000e+03, 3.47074000e+05,\n",
       "       8.47100000e+03, 3.45781000e+05, 3.50047000e+05, 2.67400000e+03,\n",
       "       3.47078000e+05, 3.83121000e+05, 3.68650000e+04, 1.13501000e+05,\n",
       "       3.10131200e+06, 3.74887000e+05, 1.24600000e+04, 1.76000000e+04,\n",
       "       3.49203000e+05, 2.82130000e+04, 2.68500000e+03, 3.47089000e+05,\n",
       "       3.47063000e+05, 1.12050000e+05, 2.48723000e+05, 3.47400000e+03,\n",
       "       2.82060000e+04, 3.64499000e+05, 1.12058000e+05, 7.07500000e+03,\n",
       "       3.15098000e+05, 3.68323000e+05, 3.67228000e+05, 2.67100000e+03,\n",
       "       3.47468000e+05, 2.22300000e+03, 3.15097000e+05, 3.92092000e+05,\n",
       "       1.17740000e+04, 3.10128700e+06, 3.00000000e+00, 2.68300000e+03,\n",
       "       3.15090000e+05, 5.54700000e+03, 3.49213000e+05, 3.47060000e+05,\n",
       "       1.13055000e+05, 2.62900000e+03, 3.50026000e+05, 2.81340000e+04,\n",
       "       2.33866000e+05, 1.75900000e+04, 3.45777000e+05, 3.49248000e+05,\n",
       "       6.95000000e+02, 3.45765000e+05, 3.49212000e+05, 3.49217000e+05,\n",
       "       3.49257000e+05, 3.40680000e+04, 3.92076000e+05, 1.11369000e+05,\n",
       "       3.70376000e+05, 1.75990000e+04, 2.48706000e+05, 3.45763000e+05,\n",
       "       2.64900000e+03, 7.54600000e+03, 2.92600000e+03, 2.93950000e+04,\n",
       "       3.33700000e+03, 2.28414000e+05, 3.35950000e+04, 2.34604000e+05,\n",
       "       1.76100000e+04, 2.65000000e+03, 1.75850000e+04, 2.30433000e+05,\n",
       "       2.50651000e+05, 2.85510000e+04, 3.86525000e+05, 1.10813000e+05,\n",
       "       2.62600000e+03, 2.40929000e+05, 3.43095000e+05, 2.82200000e+04,\n",
       "       2.00300000e+03, 3.08500000e+03, 1.74640000e+04, 5.41000000e+02,\n",
       "       4.13400000e+03, 1.76030000e+04, 3.42600000e+04, 2.26875000e+05,\n",
       "       3.45572000e+05, 1.17690000e+04, 2.68900000e+03, 2.23596000e+05,\n",
       "       2.91050000e+04, 3.49244000e+05, 2.44252000e+05, 3.92091000e+05,\n",
       "       1.74660000e+04, 2.36852000e+05, 2.30434000e+05, 2.44310000e+05,\n",
       "       1.16600000e+03, 2.19533000e+05, 2.11536000e+05])"
      ]
     },
     "metadata": {},
     "execution_count": 833
    }
   ],
   "metadata": {}
  },
  {
   "cell_type": "code",
   "execution_count": 834,
   "source": [
    "df_train.isnull().sum()     #All null values"
   ],
   "outputs": [
    {
     "output_type": "execute_result",
     "data": {
      "text/plain": [
       "PassengerId      0\n",
       "Survived         0\n",
       "Pclass           0\n",
       "Name             0\n",
       "Sex              0\n",
       "Age              0\n",
       "SibSp            0\n",
       "Parch            0\n",
       "Ticket           0\n",
       "Fare             0\n",
       "Cabin          687\n",
       "Embarked         2\n",
       "respected        0\n",
       "dtype: int64"
      ]
     },
     "metadata": {},
     "execution_count": 834
    }
   ],
   "metadata": {}
  },
  {
   "cell_type": "code",
   "execution_count": 835,
   "source": [
    "def sorter(df):                                     # Sorting the dataFrame with respect to pessanger id\r\n",
    "    df = df.sort_values(by = 'PassengerId')\r\n",
    "    \r\n",
    "    return df\r\n",
    "df_train = sorter(df_train)\r\n",
    "\r\n",
    "df_test = sorter(df_test)"
   ],
   "outputs": [],
   "metadata": {}
  },
  {
   "cell_type": "code",
   "execution_count": 836,
   "source": [
    "import sklearn                                                          # importing sklearn to creat a model and for the training and testing that model\r\n",
    "from sklearn.linear_model import LogisticRegression\r\n",
    "model = LogisticRegression()\r\n",
    "model.fit(df_train[['Age','Sex','Pclass','Fare','Ticket']],df_train['Survived'])            #training of the model with features of Age,Sex,Pclass,Fare,Ticket\r\n"
   ],
   "outputs": [
    {
     "output_type": "execute_result",
     "data": {
      "text/plain": [
       "LogisticRegression()"
      ]
     },
     "metadata": {},
     "execution_count": 836
    }
   ],
   "metadata": {}
  },
  {
   "cell_type": "code",
   "execution_count": 837,
   "source": [
    "df_test = df_test.fillna(df_test.Fare.mean())\r\n",
    "df_test['Survived'] = model.predict(df_test[['Age','Sex','Pclass','Fare','Ticket']])    # Testing of model \r\n",
    "df_test = df_test[['PassengerId','Survived']]                                           \r\n",
    "df_test.to_csv('ridham.csv',header= 1,index = False)"
   ],
   "outputs": [],
   "metadata": {}
  },
  {
   "cell_type": "code",
   "execution_count": 838,
   "source": [
    "df_test.head()          #the predict values of the model given some circumstances"
   ],
   "outputs": [
    {
     "output_type": "execute_result",
     "data": {
      "text/html": [
       "<div>\n",
       "<style scoped>\n",
       "    .dataframe tbody tr th:only-of-type {\n",
       "        vertical-align: middle;\n",
       "    }\n",
       "\n",
       "    .dataframe tbody tr th {\n",
       "        vertical-align: top;\n",
       "    }\n",
       "\n",
       "    .dataframe thead th {\n",
       "        text-align: right;\n",
       "    }\n",
       "</style>\n",
       "<table border=\"1\" class=\"dataframe\">\n",
       "  <thead>\n",
       "    <tr style=\"text-align: right;\">\n",
       "      <th></th>\n",
       "      <th>PassengerId</th>\n",
       "      <th>Survived</th>\n",
       "    </tr>\n",
       "  </thead>\n",
       "  <tbody>\n",
       "    <tr>\n",
       "      <th>103</th>\n",
       "      <td>892</td>\n",
       "      <td>0</td>\n",
       "    </tr>\n",
       "    <tr>\n",
       "      <th>343</th>\n",
       "      <td>893</td>\n",
       "      <td>0</td>\n",
       "    </tr>\n",
       "    <tr>\n",
       "      <th>104</th>\n",
       "      <td>894</td>\n",
       "      <td>0</td>\n",
       "    </tr>\n",
       "    <tr>\n",
       "      <th>105</th>\n",
       "      <td>895</td>\n",
       "      <td>0</td>\n",
       "    </tr>\n",
       "    <tr>\n",
       "      <th>344</th>\n",
       "      <td>896</td>\n",
       "      <td>0</td>\n",
       "    </tr>\n",
       "  </tbody>\n",
       "</table>\n",
       "</div>"
      ],
      "text/plain": [
       "     PassengerId  Survived\n",
       "103          892         0\n",
       "343          893         0\n",
       "104          894         0\n",
       "105          895         0\n",
       "344          896         0"
      ]
     },
     "metadata": {},
     "execution_count": 838
    }
   ],
   "metadata": {}
  }
 ],
 "metadata": {
  "orig_nbformat": 4,
  "language_info": {
   "name": "python",
   "version": "3.7.4",
   "mimetype": "text/x-python",
   "codemirror_mode": {
    "name": "ipython",
    "version": 3
   },
   "pygments_lexer": "ipython3",
   "nbconvert_exporter": "python",
   "file_extension": ".py"
  },
  "kernelspec": {
   "name": "python3",
   "display_name": "Python 3.7.4 32-bit"
  },
  "interpreter": {
   "hash": "d253451f575e0ec75da8c3481061c2c793d974f3e9a97c2104602863c13606f7"
  }
 },
 "nbformat": 4,
 "nbformat_minor": 2
}