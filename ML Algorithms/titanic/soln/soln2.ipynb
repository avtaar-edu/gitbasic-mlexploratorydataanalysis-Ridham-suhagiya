{
 "cells": [
  {
   "cell_type": "code",
   "execution_count": 821,
   "source": [
    "import pandas as pd\r\n",
    "import numpy as np\r\n",
    "import matplotlib.pyplot as plt\r\n"
   ],
   "outputs": [],
   "metadata": {}
  },
  {
   "cell_type": "markdown",
   "source": [
    "MODEL WITH A ONE LESS FEATURE ie 'TICKET'"
   ],
   "metadata": {}
  },
  {
   "cell_type": "code",
   "execution_count": 822,
   "source": [
    "df_train = pd.read_csv('train.csv')\r\n",
    "df_test = pd.read_csv('test.csv')\r\n",
    "df_test.head()                          #Reading the test and train file"
   ],
   "outputs": [
    {
     "output_type": "execute_result",
     "data": {
      "text/html": [
       "<div>\n",
       "<style scoped>\n",
       "    .dataframe tbody tr th:only-of-type {\n",
       "        vertical-align: middle;\n",
       "    }\n",
       "\n",
       "    .dataframe tbody tr th {\n",
       "        vertical-align: top;\n",
       "    }\n",
       "\n",
       "    .dataframe thead th {\n",
       "        text-align: right;\n",
       "    }\n",
       "</style>\n",
       "<table border=\"1\" class=\"dataframe\">\n",
       "  <thead>\n",
       "    <tr style=\"text-align: right;\">\n",
       "      <th></th>\n",
       "      <th>PassengerId</th>\n",
       "      <th>Pclass</th>\n",
       "      <th>Name</th>\n",
       "      <th>Sex</th>\n",
       "      <th>Age</th>\n",
       "      <th>SibSp</th>\n",
       "      <th>Parch</th>\n",
       "      <th>Ticket</th>\n",
       "      <th>Fare</th>\n",
       "      <th>Cabin</th>\n",
       "      <th>Embarked</th>\n",
       "    </tr>\n",
       "  </thead>\n",
       "  <tbody>\n",
       "    <tr>\n",
       "      <th>0</th>\n",
       "      <td>892</td>\n",
       "      <td>3</td>\n",
       "      <td>Kelly, Mr. James</td>\n",
       "      <td>male</td>\n",
       "      <td>34.5</td>\n",
       "      <td>0</td>\n",
       "      <td>0</td>\n",
       "      <td>330911</td>\n",
       "      <td>7.8292</td>\n",
       "      <td>NaN</td>\n",
       "      <td>Q</td>\n",
       "    </tr>\n",
       "    <tr>\n",
       "      <th>1</th>\n",
       "      <td>893</td>\n",
       "      <td>3</td>\n",
       "      <td>Wilkes, Mrs. James (Ellen Needs)</td>\n",
       "      <td>female</td>\n",
       "      <td>47.0</td>\n",
       "      <td>1</td>\n",
       "      <td>0</td>\n",
       "      <td>363272</td>\n",
       "      <td>7.0000</td>\n",
       "      <td>NaN</td>\n",
       "      <td>S</td>\n",
       "    </tr>\n",
       "    <tr>\n",
       "      <th>2</th>\n",
       "      <td>894</td>\n",
       "      <td>2</td>\n",
       "      <td>Myles, Mr. Thomas Francis</td>\n",
       "      <td>male</td>\n",
       "      <td>62.0</td>\n",
       "      <td>0</td>\n",
       "      <td>0</td>\n",
       "      <td>240276</td>\n",
       "      <td>9.6875</td>\n",
       "      <td>NaN</td>\n",
       "      <td>Q</td>\n",
       "    </tr>\n",
       "    <tr>\n",
       "      <th>3</th>\n",
       "      <td>895</td>\n",
       "      <td>3</td>\n",
       "      <td>Wirz, Mr. Albert</td>\n",
       "      <td>male</td>\n",
       "      <td>27.0</td>\n",
       "      <td>0</td>\n",
       "      <td>0</td>\n",
       "      <td>315154</td>\n",
       "      <td>8.6625</td>\n",
       "      <td>NaN</td>\n",
       "      <td>S</td>\n",
       "    </tr>\n",
       "    <tr>\n",
       "      <th>4</th>\n",
       "      <td>896</td>\n",
       "      <td>3</td>\n",
       "      <td>Hirvonen, Mrs. Alexander (Helga E Lindqvist)</td>\n",
       "      <td>female</td>\n",
       "      <td>22.0</td>\n",
       "      <td>1</td>\n",
       "      <td>1</td>\n",
       "      <td>3101298</td>\n",
       "      <td>12.2875</td>\n",
       "      <td>NaN</td>\n",
       "      <td>S</td>\n",
       "    </tr>\n",
       "  </tbody>\n",
       "</table>\n",
       "</div>"
      ],
      "text/plain": [
       "   PassengerId  Pclass                                          Name     Sex  \\\n",
       "0          892       3                              Kelly, Mr. James    male   \n",
       "1          893       3              Wilkes, Mrs. James (Ellen Needs)  female   \n",
       "2          894       2                     Myles, Mr. Thomas Francis    male   \n",
       "3          895       3                              Wirz, Mr. Albert    male   \n",
       "4          896       3  Hirvonen, Mrs. Alexander (Helga E Lindqvist)  female   \n",
       "\n",
       "    Age  SibSp  Parch   Ticket     Fare Cabin Embarked  \n",
       "0  34.5      0      0   330911   7.8292   NaN        Q  \n",
       "1  47.0      1      0   363272   7.0000   NaN        S  \n",
       "2  62.0      0      0   240276   9.6875   NaN        Q  \n",
       "3  27.0      0      0   315154   8.6625   NaN        S  \n",
       "4  22.0      1      1  3101298  12.2875   NaN        S  "
      ]
     },
     "metadata": {},
     "execution_count": 822
    }
   ],
   "metadata": {}
  },
  {
   "cell_type": "code",
   "execution_count": 823,
   "source": [
    "df_train.isnull().sum()         #Getting known of the null values in the train dataset"
   ],
   "outputs": [
    {
     "output_type": "execute_result",
     "data": {
      "text/plain": [
       "PassengerId      0\n",
       "Survived         0\n",
       "Pclass           0\n",
       "Name             0\n",
       "Sex              0\n",
       "Age            177\n",
       "SibSp            0\n",
       "Parch            0\n",
       "Ticket           0\n",
       "Fare             0\n",
       "Cabin          687\n",
       "Embarked         2\n",
       "dtype: int64"
      ]
     },
     "metadata": {},
     "execution_count": 823
    }
   ],
   "metadata": {}
  },
  {
   "cell_type": "code",
   "execution_count": 824,
   "source": [
    "df_test.isnull().sum()                  #Getting known of the null values in the test dataset"
   ],
   "outputs": [
    {
     "output_type": "execute_result",
     "data": {
      "text/plain": [
       "PassengerId      0\n",
       "Pclass           0\n",
       "Name             0\n",
       "Sex              0\n",
       "Age             86\n",
       "SibSp            0\n",
       "Parch            0\n",
       "Ticket           0\n",
       "Fare             1\n",
       "Cabin          327\n",
       "Embarked         0\n",
       "dtype: int64"
      ]
     },
     "metadata": {},
     "execution_count": 824
    }
   ],
   "metadata": {}
  },
  {
   "cell_type": "code",
   "execution_count": 825,
   "source": [
    "print(df_test.shape)\r\n",
    "df_train.shape                      #Shape of train and test dataset"
   ],
   "outputs": [
    {
     "output_type": "stream",
     "name": "stdout",
     "text": [
      "(418, 11)\n"
     ]
    },
    {
     "output_type": "execute_result",
     "data": {
      "text/plain": [
       "(891, 12)"
      ]
     },
     "metadata": {},
     "execution_count": 825
    }
   ],
   "metadata": {}
  },
  {
   "cell_type": "code",
   "execution_count": 826,
   "source": [
    "def respected(df):                      #Getting the title of from the names column of both the test and train dataset to calculate the average age of the person\r\n",
    "    temp  = df.split(',')[1]\r\n",
    "    temp1 = temp.split('.')[0]\r\n",
    "    return temp1.strip()\r\n",
    "df_train['respected'] = df_train['Name'].apply(respected)\r\n",
    "df_test['respected'] = df_test['Name'].apply(respected)\r\n"
   ],
   "outputs": [],
   "metadata": {}
  },
  {
   "cell_type": "code",
   "execution_count": 827,
   "source": [
    "def Age(df):                                                        #Calculating the average age of the person on the basis of the title they have \r\n",
    "    df_temp = pd.DataFrame()                                        #Doing this operation on both of the datasets with the help of a function \r\n",
    "                                                                    # Converting the Sex column to 1 and 0 because the machine cannot understand string \r\n",
    "    for key,dataf in df.groupby('respected'):\r\n",
    "        temp = (dataf.Age.mean())\r\n",
    "        dataf['Age'].fillna(temp,inplace = True)\r\n",
    "        df_temp = pd.concat([df_temp,dataf],ignore_index=True)\r\n",
    "    return df_temp\r\n",
    "def Sex (df):\r\n",
    "    if df == 'male':\r\n",
    "        return 1\r\n",
    "    return 0\r\n",
    "lst = []\r\n",
    "for df in [df_train,df_test]:\r\n",
    "    df_temp = Age(df)\r\n",
    "    df_temp['Sex'] = df_temp['Sex'].apply(Sex)\r\n",
    "    lst.append(df_temp)\r\n",
    "    df_temp = pd.DataFrame()\r\n",
    "df_train,df_test = lst"
   ],
   "outputs": [],
   "metadata": {}
  },
  {
   "cell_type": "code",
   "execution_count": 828,
   "source": [
    "df_train.Age = df_train.Age.apply(lambda x: np.floor(x))            #Converting the floating value of age to an integer\r\n",
    "df_test.Age = df_test.Age.apply(lambda x: np.floor(x))\r\n",
    "df_train.head()"
   ],
   "outputs": [
    {
     "output_type": "execute_result",
     "data": {
      "text/html": [
       "<div>\n",
       "<style scoped>\n",
       "    .dataframe tbody tr th:only-of-type {\n",
       "        vertical-align: middle;\n",
       "    }\n",
       "\n",
       "    .dataframe tbody tr th {\n",
       "        vertical-align: top;\n",
       "    }\n",
       "\n",
       "    .dataframe thead th {\n",
       "        text-align: right;\n",
       "    }\n",
       "</style>\n",
       "<table border=\"1\" class=\"dataframe\">\n",
       "  <thead>\n",
       "    <tr style=\"text-align: right;\">\n",
       "      <th></th>\n",
       "      <th>PassengerId</th>\n",
       "      <th>Survived</th>\n",
       "      <th>Pclass</th>\n",
       "      <th>Name</th>\n",
       "      <th>Sex</th>\n",
       "      <th>Age</th>\n",
       "      <th>SibSp</th>\n",
       "      <th>Parch</th>\n",
       "      <th>Ticket</th>\n",
       "      <th>Fare</th>\n",
       "      <th>Cabin</th>\n",
       "      <th>Embarked</th>\n",
       "      <th>respected</th>\n",
       "    </tr>\n",
       "  </thead>\n",
       "  <tbody>\n",
       "    <tr>\n",
       "      <th>0</th>\n",
       "      <td>746</td>\n",
       "      <td>0</td>\n",
       "      <td>1</td>\n",
       "      <td>Crosby, Capt. Edward Gifford</td>\n",
       "      <td>1</td>\n",
       "      <td>70.0</td>\n",
       "      <td>1</td>\n",
       "      <td>1</td>\n",
       "      <td>WE/P 5735</td>\n",
       "      <td>71.0000</td>\n",
       "      <td>B22</td>\n",
       "      <td>S</td>\n",
       "      <td>Capt</td>\n",
       "    </tr>\n",
       "    <tr>\n",
       "      <th>1</th>\n",
       "      <td>648</td>\n",
       "      <td>1</td>\n",
       "      <td>1</td>\n",
       "      <td>Simonius-Blumer, Col. Oberst Alfons</td>\n",
       "      <td>1</td>\n",
       "      <td>56.0</td>\n",
       "      <td>0</td>\n",
       "      <td>0</td>\n",
       "      <td>13213</td>\n",
       "      <td>35.5000</td>\n",
       "      <td>A26</td>\n",
       "      <td>C</td>\n",
       "      <td>Col</td>\n",
       "    </tr>\n",
       "    <tr>\n",
       "      <th>2</th>\n",
       "      <td>695</td>\n",
       "      <td>0</td>\n",
       "      <td>1</td>\n",
       "      <td>Weir, Col. John</td>\n",
       "      <td>1</td>\n",
       "      <td>60.0</td>\n",
       "      <td>0</td>\n",
       "      <td>0</td>\n",
       "      <td>113800</td>\n",
       "      <td>26.5500</td>\n",
       "      <td>NaN</td>\n",
       "      <td>S</td>\n",
       "      <td>Col</td>\n",
       "    </tr>\n",
       "    <tr>\n",
       "      <th>3</th>\n",
       "      <td>31</td>\n",
       "      <td>0</td>\n",
       "      <td>1</td>\n",
       "      <td>Uruchurtu, Don. Manuel E</td>\n",
       "      <td>1</td>\n",
       "      <td>40.0</td>\n",
       "      <td>0</td>\n",
       "      <td>0</td>\n",
       "      <td>PC 17601</td>\n",
       "      <td>27.7208</td>\n",
       "      <td>NaN</td>\n",
       "      <td>C</td>\n",
       "      <td>Don</td>\n",
       "    </tr>\n",
       "    <tr>\n",
       "      <th>4</th>\n",
       "      <td>246</td>\n",
       "      <td>0</td>\n",
       "      <td>1</td>\n",
       "      <td>Minahan, Dr. William Edward</td>\n",
       "      <td>1</td>\n",
       "      <td>44.0</td>\n",
       "      <td>2</td>\n",
       "      <td>0</td>\n",
       "      <td>19928</td>\n",
       "      <td>90.0000</td>\n",
       "      <td>C78</td>\n",
       "      <td>Q</td>\n",
       "      <td>Dr</td>\n",
       "    </tr>\n",
       "  </tbody>\n",
       "</table>\n",
       "</div>"
      ],
      "text/plain": [
       "   PassengerId  Survived  Pclass                                 Name  Sex  \\\n",
       "0          746         0       1         Crosby, Capt. Edward Gifford    1   \n",
       "1          648         1       1  Simonius-Blumer, Col. Oberst Alfons    1   \n",
       "2          695         0       1                      Weir, Col. John    1   \n",
       "3           31         0       1             Uruchurtu, Don. Manuel E    1   \n",
       "4          246         0       1          Minahan, Dr. William Edward    1   \n",
       "\n",
       "    Age  SibSp  Parch     Ticket     Fare Cabin Embarked respected  \n",
       "0  70.0      1      1  WE/P 5735  71.0000   B22        S      Capt  \n",
       "1  56.0      0      0      13213  35.5000   A26        C       Col  \n",
       "2  60.0      0      0     113800  26.5500   NaN        S       Col  \n",
       "3  40.0      0      0   PC 17601  27.7208   NaN        C       Don  \n",
       "4  44.0      2      0      19928  90.0000   C78        Q        Dr  "
      ]
     },
     "metadata": {},
     "execution_count": 828
    }
   ],
   "metadata": {}
  },
  {
   "cell_type": "code",
   "execution_count": 832,
   "source": [
    "df_train.isnull().sum()         # Checking the null values "
   ],
   "outputs": [
    {
     "output_type": "execute_result",
     "data": {
      "text/plain": [
       "PassengerId      0\n",
       "Survived         0\n",
       "Pclass           0\n",
       "Name             0\n",
       "Sex              0\n",
       "Age              0\n",
       "SibSp            0\n",
       "Parch            0\n",
       "Ticket           0\n",
       "Fare             0\n",
       "Cabin          687\n",
       "Embarked         2\n",
       "respected        0\n",
       "dtype: int64"
      ]
     },
     "metadata": {},
     "execution_count": 832
    }
   ],
   "metadata": {}
  },
  {
   "cell_type": "code",
   "execution_count": 834,
   "source": [
    "df_train.isnull().sum()     #All null values"
   ],
   "outputs": [
    {
     "output_type": "execute_result",
     "data": {
      "text/plain": [
       "PassengerId      0\n",
       "Survived         0\n",
       "Pclass           0\n",
       "Name             0\n",
       "Sex              0\n",
       "Age              0\n",
       "SibSp            0\n",
       "Parch            0\n",
       "Ticket           0\n",
       "Fare             0\n",
       "Cabin          687\n",
       "Embarked         2\n",
       "respected        0\n",
       "dtype: int64"
      ]
     },
     "metadata": {},
     "execution_count": 834
    }
   ],
   "metadata": {}
  },
  {
   "cell_type": "code",
   "execution_count": 835,
   "source": [
    "def sorter(df):                                     # Sorting the dataFrame with respect to pessanger id\r\n",
    "    df = df.sort_values(by = 'PassengerId')\r\n",
    "    \r\n",
    "    return df\r\n",
    "df_train = sorter(df_train)\r\n",
    "\r\n",
    "df_test = sorter(df_test)"
   ],
   "outputs": [],
   "metadata": {}
  },
  {
   "cell_type": "code",
   "execution_count": 836,
   "source": [
    "import sklearn                                                          # importing sklearn to creat a model and for the training and testing that model\r\n",
    "from sklearn.linear_model import LogisticRegression\r\n",
    "model = LogisticRegression()\r\n",
    "model.fit(df_train[['Age','Sex','Pclass','Fare']],df_train['Survived'])            #training of the model with features of Age,Sex,Pclass,Fare,Ticket\r\n"
   ],
   "outputs": [
    {
     "output_type": "execute_result",
     "data": {
      "text/plain": [
       "LogisticRegression()"
      ]
     },
     "metadata": {},
     "execution_count": 836
    }
   ],
   "metadata": {}
  },
  {
   "cell_type": "code",
   "execution_count": 837,
   "source": [
    "df_test = df_test.fillna(df_test.Fare.mean())\r\n",
    "df_test['Survived'] = model.predict(df_test[['Age','Sex','Pclass','Fare']])    # Testing of model \r\n",
    "df_test = df_test[['PassengerId','Survived']]                                           \r\n",
    "df_test.to_csv('ridham.csv',header= 1,index = False)"
   ],
   "outputs": [],
   "metadata": {}
  },
  {
   "cell_type": "code",
   "execution_count": 838,
   "source": [
    "df_test.head()          #the predict values of the model given some circumstances"
   ],
   "outputs": [
    {
     "output_type": "execute_result",
     "data": {
      "text/html": [
       "<div>\n",
       "<style scoped>\n",
       "    .dataframe tbody tr th:only-of-type {\n",
       "        vertical-align: middle;\n",
       "    }\n",
       "\n",
       "    .dataframe tbody tr th {\n",
       "        vertical-align: top;\n",
       "    }\n",
       "\n",
       "    .dataframe thead th {\n",
       "        text-align: right;\n",
       "    }\n",
       "</style>\n",
       "<table border=\"1\" class=\"dataframe\">\n",
       "  <thead>\n",
       "    <tr style=\"text-align: right;\">\n",
       "      <th></th>\n",
       "      <th>PassengerId</th>\n",
       "      <th>Survived</th>\n",
       "    </tr>\n",
       "  </thead>\n",
       "  <tbody>\n",
       "    <tr>\n",
       "      <th>103</th>\n",
       "      <td>892</td>\n",
       "      <td>0</td>\n",
       "    </tr>\n",
       "    <tr>\n",
       "      <th>343</th>\n",
       "      <td>893</td>\n",
       "      <td>0</td>\n",
       "    </tr>\n",
       "    <tr>\n",
       "      <th>104</th>\n",
       "      <td>894</td>\n",
       "      <td>0</td>\n",
       "    </tr>\n",
       "    <tr>\n",
       "      <th>105</th>\n",
       "      <td>895</td>\n",
       "      <td>0</td>\n",
       "    </tr>\n",
       "    <tr>\n",
       "      <th>344</th>\n",
       "      <td>896</td>\n",
       "      <td>0</td>\n",
       "    </tr>\n",
       "  </tbody>\n",
       "</table>\n",
       "</div>"
      ],
      "text/plain": [
       "     PassengerId  Survived\n",
       "103          892         0\n",
       "343          893         0\n",
       "104          894         0\n",
       "105          895         0\n",
       "344          896         0"
      ]
     },
     "metadata": {},
     "execution_count": 838
    }
   ],
   "metadata": {}
  }
 ],
 "metadata": {
  "orig_nbformat": 4,
  "language_info": {
   "name": "python",
   "version": "3.7.4",
   "mimetype": "text/x-python",
   "codemirror_mode": {
    "name": "ipython",
    "version": 3
   },
   "pygments_lexer": "ipython3",
   "nbconvert_exporter": "python",
   "file_extension": ".py"
  },
  "kernelspec": {
   "name": "python3",
   "display_name": "Python 3.7.4 32-bit"
  },
  "interpreter": {
   "hash": "d253451f575e0ec75da8c3481061c2c793d974f3e9a97c2104602863c13606f7"
  }
 },
 "nbformat": 4,
 "nbformat_minor": 2
}